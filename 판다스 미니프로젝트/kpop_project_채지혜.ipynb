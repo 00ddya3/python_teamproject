{
 "cells": [
  {
   "cell_type": "code",
   "execution_count": 1,
   "id": "05f5a53a",
   "metadata": {},
   "outputs": [],
   "source": [
    "import pandas as pd"
   ]
  },
  {
   "cell_type": "code",
   "execution_count": 64,
   "id": "a6c5cd44",
   "metadata": {},
   "outputs": [],
   "source": [
    "import seaborn as sns\n",
    "import matplotlib.pyplot as plt"
   ]
  },
  {
   "cell_type": "code",
   "execution_count": 155,
   "id": "b5bcee4e",
   "metadata": {},
   "outputs": [],
   "source": [
    "import matplotlib.ticker as mticker "
   ]
  },
  {
   "cell_type": "raw",
   "id": "1461e9d0",
   "metadata": {},
   "source": [
    "kpop_df=[]\n",
    "for i in range(2000, 2021, 1):\n",
    "    kpop_df.append(pd.read_csv(\"D:/jupyter_notebook/project/data/KPopHits%s.csv\"%i,encoding='utf-8'))"
   ]
  },
  {
   "cell_type": "code",
   "execution_count": 65,
   "id": "e05409f2",
   "metadata": {},
   "outputs": [],
   "source": [
    "year_list = list(range(2000, 2021, 1))"
   ]
  },
  {
   "cell_type": "code",
   "execution_count": 138,
   "id": "10fb00a7",
   "metadata": {},
   "outputs": [
    {
     "data": {
      "text/plain": [
       "21"
      ]
     },
     "execution_count": 138,
     "metadata": {},
     "output_type": "execute_result"
    }
   ],
   "source": [
    "len(year_list)"
   ]
  },
  {
   "cell_type": "code",
   "execution_count": 140,
   "id": "9365f347",
   "metadata": {},
   "outputs": [],
   "source": [
    "for i in range(0, 21):\n",
    "    kpop_df[i]['year'] = year_list[i]"
   ]
  },
  {
   "cell_type": "code",
   "execution_count": 141,
   "id": "421eaed3",
   "metadata": {},
   "outputs": [],
   "source": [
    "kpop_df1=pd.concat(kpop_df)"
   ]
  },
  {
   "cell_type": "code",
   "execution_count": 142,
   "id": "ad360d89",
   "metadata": {
    "scrolled": true
   },
   "outputs": [
    {
     "data": {
      "text/html": [
       "<div>\n",
       "<style scoped>\n",
       "    .dataframe tbody tr th:only-of-type {\n",
       "        vertical-align: middle;\n",
       "    }\n",
       "\n",
       "    .dataframe tbody tr th {\n",
       "        vertical-align: top;\n",
       "    }\n",
       "\n",
       "    .dataframe thead th {\n",
       "        text-align: right;\n",
       "    }\n",
       "</style>\n",
       "<table border=\"1\" class=\"dataframe\">\n",
       "  <thead>\n",
       "    <tr style=\"text-align: right;\">\n",
       "      <th></th>\n",
       "      <th>Unnamed: 0</th>\n",
       "      <th>title</th>\n",
       "      <th>artist/s</th>\n",
       "      <th>danceability</th>\n",
       "      <th>energy</th>\n",
       "      <th>key</th>\n",
       "      <th>loudness</th>\n",
       "      <th>mode</th>\n",
       "      <th>speechiness</th>\n",
       "      <th>acousticness</th>\n",
       "      <th>valence</th>\n",
       "      <th>tempo</th>\n",
       "      <th>duration_ms</th>\n",
       "      <th>time_signature</th>\n",
       "      <th>year</th>\n",
       "    </tr>\n",
       "  </thead>\n",
       "  <tbody>\n",
       "    <tr>\n",
       "      <th>0</th>\n",
       "      <td>0</td>\n",
       "      <td>Show Me Your Love</td>\n",
       "      <td>S.E.S.</td>\n",
       "      <td>0.724</td>\n",
       "      <td>0.790</td>\n",
       "      <td>4</td>\n",
       "      <td>-4.188</td>\n",
       "      <td>0</td>\n",
       "      <td>0.0413</td>\n",
       "      <td>0.1130</td>\n",
       "      <td>0.632</td>\n",
       "      <td>79.998</td>\n",
       "      <td>340907</td>\n",
       "      <td>4</td>\n",
       "      <td>2000</td>\n",
       "    </tr>\n",
       "    <tr>\n",
       "      <th>1</th>\n",
       "      <td>1</td>\n",
       "      <td>Like Yesterday - Mixed</td>\n",
       "      <td>Paul Cherry</td>\n",
       "      <td>0.699</td>\n",
       "      <td>0.341</td>\n",
       "      <td>3</td>\n",
       "      <td>-14.693</td>\n",
       "      <td>0</td>\n",
       "      <td>0.0564</td>\n",
       "      <td>0.8310</td>\n",
       "      <td>0.702</td>\n",
       "      <td>148.042</td>\n",
       "      <td>225498</td>\n",
       "      <td>4</td>\n",
       "      <td>2000</td>\n",
       "    </tr>\n",
       "    <tr>\n",
       "      <th>2</th>\n",
       "      <td>2</td>\n",
       "      <td>You Mean Everything To Me</td>\n",
       "      <td>Lena Park</td>\n",
       "      <td>0.592</td>\n",
       "      <td>0.525</td>\n",
       "      <td>2</td>\n",
       "      <td>-7.486</td>\n",
       "      <td>1</td>\n",
       "      <td>0.0273</td>\n",
       "      <td>0.2780</td>\n",
       "      <td>0.165</td>\n",
       "      <td>140.511</td>\n",
       "      <td>276109</td>\n",
       "      <td>4</td>\n",
       "      <td>2000</td>\n",
       "    </tr>\n",
       "    <tr>\n",
       "      <th>3</th>\n",
       "      <td>3</td>\n",
       "      <td>아시나요</td>\n",
       "      <td>Jo Sung Mo</td>\n",
       "      <td>0.454</td>\n",
       "      <td>0.233</td>\n",
       "      <td>7</td>\n",
       "      <td>-7.781</td>\n",
       "      <td>1</td>\n",
       "      <td>0.0326</td>\n",
       "      <td>0.4790</td>\n",
       "      <td>0.177</td>\n",
       "      <td>130.082</td>\n",
       "      <td>327973</td>\n",
       "      <td>4</td>\n",
       "      <td>2000</td>\n",
       "    </tr>\n",
       "    <tr>\n",
       "      <th>4</th>\n",
       "      <td>4</td>\n",
       "      <td>다 줄꺼야 I Will Give You Everything (Acousti...</td>\n",
       "      <td>조규만 Cho Kyu Man</td>\n",
       "      <td>0.429</td>\n",
       "      <td>0.379</td>\n",
       "      <td>9</td>\n",
       "      <td>-7.090</td>\n",
       "      <td>1</td>\n",
       "      <td>0.0360</td>\n",
       "      <td>0.6760</td>\n",
       "      <td>0.230</td>\n",
       "      <td>129.819</td>\n",
       "      <td>244133</td>\n",
       "      <td>4</td>\n",
       "      <td>2000</td>\n",
       "    </tr>\n",
       "    <tr>\n",
       "      <th>...</th>\n",
       "      <td>...</td>\n",
       "      <td>...</td>\n",
       "      <td>...</td>\n",
       "      <td>...</td>\n",
       "      <td>...</td>\n",
       "      <td>...</td>\n",
       "      <td>...</td>\n",
       "      <td>...</td>\n",
       "      <td>...</td>\n",
       "      <td>...</td>\n",
       "      <td>...</td>\n",
       "      <td>...</td>\n",
       "      <td>...</td>\n",
       "      <td>...</td>\n",
       "      <td>...</td>\n",
       "    </tr>\n",
       "    <tr>\n",
       "      <th>45</th>\n",
       "      <td>45</td>\n",
       "      <td>Apple</td>\n",
       "      <td>GFRIEND</td>\n",
       "      <td>0.641</td>\n",
       "      <td>0.932</td>\n",
       "      <td>9</td>\n",
       "      <td>-4.877</td>\n",
       "      <td>1</td>\n",
       "      <td>0.1560</td>\n",
       "      <td>0.0156</td>\n",
       "      <td>0.253</td>\n",
       "      <td>119.965</td>\n",
       "      <td>207252</td>\n",
       "      <td>4</td>\n",
       "      <td>2020</td>\n",
       "    </tr>\n",
       "    <tr>\n",
       "      <th>46</th>\n",
       "      <td>46</td>\n",
       "      <td>Bon voyage</td>\n",
       "      <td>YooA</td>\n",
       "      <td>0.703</td>\n",
       "      <td>0.889</td>\n",
       "      <td>2</td>\n",
       "      <td>-3.537</td>\n",
       "      <td>1</td>\n",
       "      <td>0.0509</td>\n",
       "      <td>0.3070</td>\n",
       "      <td>0.273</td>\n",
       "      <td>119.793</td>\n",
       "      <td>219587</td>\n",
       "      <td>4</td>\n",
       "      <td>2020</td>\n",
       "    </tr>\n",
       "    <tr>\n",
       "      <th>47</th>\n",
       "      <td>47</td>\n",
       "      <td>BOY</td>\n",
       "      <td>TREASURE</td>\n",
       "      <td>0.757</td>\n",
       "      <td>0.791</td>\n",
       "      <td>6</td>\n",
       "      <td>-5.731</td>\n",
       "      <td>0</td>\n",
       "      <td>0.0476</td>\n",
       "      <td>0.0526</td>\n",
       "      <td>0.670</td>\n",
       "      <td>110.062</td>\n",
       "      <td>196667</td>\n",
       "      <td>4</td>\n",
       "      <td>2020</td>\n",
       "    </tr>\n",
       "    <tr>\n",
       "      <th>48</th>\n",
       "      <td>48</td>\n",
       "      <td>Obliviate</td>\n",
       "      <td>Lovelyz</td>\n",
       "      <td>0.680</td>\n",
       "      <td>0.904</td>\n",
       "      <td>10</td>\n",
       "      <td>-2.056</td>\n",
       "      <td>0</td>\n",
       "      <td>0.1170</td>\n",
       "      <td>0.2870</td>\n",
       "      <td>0.602</td>\n",
       "      <td>117.995</td>\n",
       "      <td>202107</td>\n",
       "      <td>4</td>\n",
       "      <td>2020</td>\n",
       "    </tr>\n",
       "    <tr>\n",
       "      <th>49</th>\n",
       "      <td>49</td>\n",
       "      <td>YESSIR</td>\n",
       "      <td>3YE</td>\n",
       "      <td>0.681</td>\n",
       "      <td>0.975</td>\n",
       "      <td>4</td>\n",
       "      <td>-1.438</td>\n",
       "      <td>0</td>\n",
       "      <td>0.0646</td>\n",
       "      <td>0.0626</td>\n",
       "      <td>0.726</td>\n",
       "      <td>94.998</td>\n",
       "      <td>198493</td>\n",
       "      <td>4</td>\n",
       "      <td>2020</td>\n",
       "    </tr>\n",
       "  </tbody>\n",
       "</table>\n",
       "<p>727 rows × 15 columns</p>\n",
       "</div>"
      ],
      "text/plain": [
       "    Unnamed: 0                                              title  \\\n",
       "0            0                                  Show Me Your Love   \n",
       "1            1                             Like Yesterday - Mixed   \n",
       "2            2                          You Mean Everything To Me   \n",
       "3            3                                               아시나요   \n",
       "4            4  다 줄꺼야 I Will Give You Everything (Acousti...   \n",
       "..         ...                                                ...   \n",
       "45          45                                              Apple   \n",
       "46          46                                         Bon voyage   \n",
       "47          47                                                BOY   \n",
       "48          48                                          Obliviate   \n",
       "49          49                                             YESSIR   \n",
       "\n",
       "           artist/s  danceability  energy  key  loudness  mode  speechiness  \\\n",
       "0            S.E.S.         0.724   0.790    4    -4.188     0       0.0413   \n",
       "1       Paul Cherry         0.699   0.341    3   -14.693     0       0.0564   \n",
       "2         Lena Park         0.592   0.525    2    -7.486     1       0.0273   \n",
       "3        Jo Sung Mo         0.454   0.233    7    -7.781     1       0.0326   \n",
       "4   조규만 Cho Kyu Man         0.429   0.379    9    -7.090     1       0.0360   \n",
       "..              ...           ...     ...  ...       ...   ...          ...   \n",
       "45          GFRIEND         0.641   0.932    9    -4.877     1       0.1560   \n",
       "46             YooA         0.703   0.889    2    -3.537     1       0.0509   \n",
       "47         TREASURE         0.757   0.791    6    -5.731     0       0.0476   \n",
       "48          Lovelyz         0.680   0.904   10    -2.056     0       0.1170   \n",
       "49              3YE         0.681   0.975    4    -1.438     0       0.0646   \n",
       "\n",
       "    acousticness  valence    tempo  duration_ms  time_signature  year  \n",
       "0         0.1130    0.632   79.998       340907               4  2000  \n",
       "1         0.8310    0.702  148.042       225498               4  2000  \n",
       "2         0.2780    0.165  140.511       276109               4  2000  \n",
       "3         0.4790    0.177  130.082       327973               4  2000  \n",
       "4         0.6760    0.230  129.819       244133               4  2000  \n",
       "..           ...      ...      ...          ...             ...   ...  \n",
       "45        0.0156    0.253  119.965       207252               4  2020  \n",
       "46        0.3070    0.273  119.793       219587               4  2020  \n",
       "47        0.0526    0.670  110.062       196667               4  2020  \n",
       "48        0.2870    0.602  117.995       202107               4  2020  \n",
       "49        0.0626    0.726   94.998       198493               4  2020  \n",
       "\n",
       "[727 rows x 15 columns]"
      ]
     },
     "execution_count": 142,
     "metadata": {},
     "output_type": "execute_result"
    }
   ],
   "source": [
    "kpop_df1"
   ]
  },
  {
   "cell_type": "code",
   "execution_count": 143,
   "id": "f2390517",
   "metadata": {},
   "outputs": [],
   "source": [
    "loudness_list = []\n",
    "for i in range(0, 21):\n",
    "    hap = round(kpop_df1[kpop_df1['year'] == 2000 + i]['loudness'].mean(),2)\n",
    "    loudness_list.append(hap)"
   ]
  },
  {
   "cell_type": "code",
   "execution_count": 144,
   "id": "bf7bb21e",
   "metadata": {},
   "outputs": [
    {
     "data": {
      "text/plain": [
       "21"
      ]
     },
     "execution_count": 144,
     "metadata": {},
     "output_type": "execute_result"
    }
   ],
   "source": [
    "len(loudness_list)"
   ]
  },
  {
   "cell_type": "code",
   "execution_count": null,
   "id": "aabb62cb",
   "metadata": {},
   "outputs": [],
   "source": []
  },
  {
   "cell_type": "code",
   "execution_count": 145,
   "id": "b93bf1e8",
   "metadata": {},
   "outputs": [],
   "source": [
    "tempo_list = []\n",
    "for i in range(0, 21):\n",
    "    hap = round(kpop_df1[kpop_df1['year'] == 2000 + i]['tempo'].mean(),4)\n",
    "    tempo_list.append(hap)"
   ]
  },
  {
   "cell_type": "code",
   "execution_count": 147,
   "id": "e8dd489c",
   "metadata": {},
   "outputs": [
    {
     "data": {
      "text/plain": [
       "21"
      ]
     },
     "execution_count": 147,
     "metadata": {},
     "output_type": "execute_result"
    }
   ],
   "source": [
    "len(tempo_list)"
   ]
  },
  {
   "cell_type": "code",
   "execution_count": 146,
   "id": "845ee246",
   "metadata": {},
   "outputs": [],
   "source": [
    "time_signature = []\n",
    "for i in range(0, 21):\n",
    "    hap = round(kpop_df1[kpop_df1['year'] == 2000 + i]['time_signature'].mean(),4)\n",
    "    time_signature.append(hap)"
   ]
  },
  {
   "cell_type": "code",
   "execution_count": 123,
   "id": "31ee8e0d",
   "metadata": {},
   "outputs": [
    {
     "data": {
      "text/plain": [
       "[4.0,\n",
       " 3.9667,\n",
       " 4.0,\n",
       " 3.8966,\n",
       " 3.9655,\n",
       " 3.9667,\n",
       " 3.9643,\n",
       " 4.0,\n",
       " 3.9655,\n",
       " 4.0,\n",
       " 4.0,\n",
       " 4.0,\n",
       " 4.0,\n",
       " 4.0,\n",
       " 3.9333,\n",
       " 4.0,\n",
       " 3.98,\n",
       " 3.987,\n",
       " 3.98,\n",
       " 4.0]"
      ]
     },
     "execution_count": 123,
     "metadata": {},
     "output_type": "execute_result"
    }
   ],
   "source": [
    "time_signature"
   ]
  },
  {
   "cell_type": "code",
   "execution_count": 164,
   "id": "a0553f04",
   "metadata": {},
   "outputs": [
    {
     "data": {
      "image/png": "[encoded data removed]",
      "text/plain": [
       "<Figure size 864x432 with 4 Axes>"
      ]
     },
     "metadata": {
      "needs_background": "light"
     },
     "output_type": "display_data"
    }
   ],
   "source": [
    "x = year_list\n",
    "\n",
    "y1 = loudness_list\n",
    "y2 = tempo_list\n",
    "y3 = time_signature \n",
    "\n",
    "fig, axes = plt.subplots(2, 2, figsize=(12, 6), sharex=True, sharey=False)\n",
    "fig.suptitle('2000-2020 Hit Song Trend', fontsize=15)\n",
    "\n",
    "plt.subplot(2, 2, 1)\n",
    "plt.plot(x, y1)\n",
    "plt.title('loundness')\n",
    "plt.gca().yaxis.set_major_formatter(mticker.FormatStrFormatter('%.1f DB'))\n",
    "plt.subplot(2, 2, 2)\n",
    "plt.plot(x, y2)\n",
    "plt.title('tempo')\n",
    "plt.gca().yaxis.set_major_formatter(mticker.FormatStrFormatter('%.1f B'))\n",
    "plt.subplot(2, 2, 3)\n",
    "plt.plot(x, y3)\n",
    "plt.title('time_signaature')\n",
    "plt.gca().yaxis.set_major_formatter(mticker.FormatStrFormatter('%.2f M'))\n",
    "\n",
    "\n",
    "plt.xticks(list(range(2000, 2021, 2)))\n",
    "\n",
    "\n",
    "\n",
    "plt.show()"
   ]
  },
  {
   "cell_type": "code",
   "execution_count": null,
   "id": "5cded39a",
   "metadata": {},
   "outputs": [],
   "source": []
  }
 ],
 "metadata": {
  "kernelspec": {
   "display_name": "Python 3 (ipykernel)",
   "language": "python",
   "name": "python3"
  },
  "language_info": {
   "codemirror_mode": {
    "name": "ipython",
    "version": 3
   },
   "file_extension": ".py",
   "mimetype": "text/x-python",
   "name": "python",
   "nbconvert_exporter": "python",
   "pygments_lexer": "ipython3",
   "version": "3.9.7"
  }
 },
 "nbformat": 4,
 "nbformat_minor": 5
}
