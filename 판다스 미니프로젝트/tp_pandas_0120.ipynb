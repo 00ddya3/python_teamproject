{
 "cells": [
  {
   "cell_type": "code",
   "execution_count": 2,
   "metadata": {},
   "outputs": [],
   "source": [
    "import pandas as pd\n",
    "import matplotlib.pyplot as plt\n",
    "import platform\n",
    "import matplotlib.pyplot as plt\n",
    "import matplotlib.font_manager as fm\n",
    "\n",
    "#시스템 보정\n",
    "system_name = platform.system()\n",
    "if system_name == 'Windows':\n",
    "    plt.rc('font', family='Malgun Gothic')\n",
    "elif system_name == 'Darwin':\n",
    "    plt.rc('font', family='AppleGothic')\n",
    "elif system_name == 'Linux':\n",
    "    path = '/usr/share/fonts/truetype/nanum/NanumMyeongjo.ttf'\n",
    "    font_name = fm.FontProperties(fname=path, size=12)\n",
    "    plt.rc('font', family=font_name)\n",
    "else:\n",
    "    print(\"Not support\")\n",
    "\n",
    "# artist가 '코케'인 데이터의 title, artist 재정의\n",
    "def revise_koke(df) :\n",
    "    j=0\n",
    "    for i in range(727) :\n",
    "        if df['artist/s'][i] == '코케' :\n",
    "            #print('koke')\n",
    "            df['title'][i] = new_title[j][0]\n",
    "            df['artist/s'][i] = new_title[j][1]\n",
    "            j=j+1\n",
    "\n",
    "#가수의 yy년에 낸 히트곡의 개수를 반환하는 함수\n",
    "def count_num(yy, L_artist) :\n",
    "    num_of_song=[]\n",
    "    for i in range(len(artist)) :\n",
    "        if artist[i] in L_artist :\n",
    "            num_of_song.append(L_artist.count(artist[i]))\n",
    "        else :\n",
    "            num_of_song.append(0)\n",
    "    return num_of_song\n",
    "\n"
   ]
  },
  {
   "cell_type": "code",
   "execution_count": 14,
   "metadata": {},
   "outputs": [],
   "source": [
    "\n",
    "#그래프 표현\n",
    "def show_graph(name):\n",
    "    S_artist = my_df.loc[name]\n",
    "    L_key = S_artist.keys().tolist()\n",
    "    L_artist = S_artist.values.tolist()\n",
    "\n",
    "    plt.figure(figsize=(18,4))\n",
    "    plt.title('2000~2021 {0}의 히트곡 개수'.format(name))\n",
    "    plt.legend(loc=3)\n",
    "    plt.xticks(L_key)\n",
    "\n",
    "    plt.plot(L_key, L_artist, marker='o', color = 'blue', label=name)\n",
    "    \n",
    "    plt.show()\n",
    "\n",
    "def set_data(name):\n",
    "    S_artist = my_df.loc[name]\n",
    "    L_artist = S_artist.values.tolist()\n",
    "    return L_artist\n",
    "\n",
    "#다중 그래프 표현\n",
    "def show_graph2():\n",
    "    name=input('가수 이름 입력: ')\n",
    "             \n",
    "    S_artist = my_df.loc[name]\n",
    "    L_key = S_artist.keys().tolist()\n",
    "    L_artist = S_artist.values.tolist()\n",
    "\n",
    "    plt.figure(figsize=(18,4))\n",
    "    plt.title('히트곡 개수 비교')\n",
    "    \n",
    "    plt.xticks(L_key)\n",
    "\n",
    "    plt.plot(L_key, L_artist, marker='o', color = 'blue', label=name)\n",
    "\n",
    "    while True:\n",
    "        reply = input('추가하시겠습니까? Y/N :')\n",
    "        if reply == 'N' :\n",
    "            break\n",
    "        elif reply == 'Y' :\n",
    "            name=input('가수 이름 입력: ')\n",
    "            plt.plot(L_key, set_data(name), marker='o', color = 'red', label=name)\n",
    "        else :\n",
    "           print('Y/N 중에 입력하세요')\n",
    "\n",
    "    plt.legend(loc=3)\n",
    "    plt.show()\n",
    "\n",
    "#파이차트 그리기\n",
    "def show_pie_graph(name):\n",
    "    S_artist = my_df.loc[name]\n",
    "    L_key = S_artist.keys().tolist()\n",
    "    L_artist = S_artist.values.tolist()\n",
    "\n",
    "    plt.axis('equal')\n",
    "\n",
    "    plt.pie(L_artist, labels=L_key, autopct='%.1f%%')\n",
    "    plt.legend()    \n",
    "    plt.show()"
   ]
  },
  {
   "cell_type": "code",
   "execution_count": 7,
   "metadata": {},
   "outputs": [],
   "source": [
    "#CSV 파일 로드\n",
    "df=[]\n",
    "for i in range(2000, 2021) :\n",
    "    df.append(pd.read_csv(\"C:/Users/q/Desktop/archive/KPopHits\"+str(i)+\".csv\", encoding='utf-8'))\n",
    "    df[i-2000]['year']=i\n",
    "concat_df = pd.concat(df, ignore_index=True)"
   ]
  },
  {
   "cell_type": "code",
   "execution_count": 8,
   "metadata": {},
   "outputs": [
    {
     "name": "stderr",
     "output_type": "stream",
     "text": [
      "C:\\Users\\q\\AppData\\Local\\Temp/ipykernel_16040/2372054666.py:26: SettingWithCopyWarning: \n",
      "A value is trying to be set on a copy of a slice from a DataFrame\n",
      "\n",
      "See the caveats in the documentation: https://pandas.pydata.org/pandas-docs/stable/user_guide/indexing.html#returning-a-view-versus-a-copy\n",
      "  df['title'][i] = new_title[j][0]\n",
      "C:\\Users\\q\\AppData\\Local\\Temp/ipykernel_16040/2372054666.py:27: SettingWithCopyWarning: \n",
      "A value is trying to be set on a copy of a slice from a DataFrame\n",
      "\n",
      "See the caveats in the documentation: https://pandas.pydata.org/pandas-docs/stable/user_guide/indexing.html#returning-a-view-versus-a-copy\n",
      "  df['artist/s'][i] = new_title[j][1]\n"
     ]
    }
   ],
   "source": [
    "#print(concat_df['title'][concat_df['artist/s'] == '코케'])  #<<확인용\n",
    "\n",
    "#artist가 '코케'인 데이터 title 열 보정\n",
    "new_title=[]\n",
    "S_koke = concat_df['title'][concat_df['artist/s'] == '코케'] #가수이름이 koke인 놈들 시리즈\n",
    "L_koke = S_koke.values.tolist() #가수이름이 koke인 놈들 리스트\n",
    "for i in range(len(L_koke)) :\n",
    "    new_title.append(L_koke[i].split(' : Originally Performed By ')) #1차 split 완료\n",
    "    new_title[i][1] = new_title[i][1].split(' ')[0] #2차 split 완료\n",
    "\n",
    "# '코케'인 데이터의 title, artist 재정의\n",
    "revise_koke(concat_df)\n",
    "\n",
    "#print(concat_df['title'][concat_df['artist/s'] == '오렌지캬라멜'])  #<<확인용"
   ]
  },
  {
   "cell_type": "code",
   "execution_count": 9,
   "metadata": {},
   "outputs": [],
   "source": [
    "# i 해의 아티스트 리스트 (콜라보 보정 완료)\n",
    "artist_of_years={}\n",
    "for i in range(2000, 2021) :\n",
    "    artist_of_year=[]\n",
    "    S_year = concat_df['artist/s'][concat_df['year'] == i] #i해의 아티스트 시리즈\n",
    "    L_year = S_year.values.tolist() #i해의 아티스트 리스트\n",
    "    for j in range(len(L_year)) :\n",
    "        artist_of_year.extend(L_year[j].split(', '))\n",
    "    #print(i,': ', artist_of_year) # 특정 해에 히트곡을 낸 가수들의 리스트\n",
    "    artist_of_years[i] = artist_of_year #딕셔너리 형태로 저장\n",
    "\n",
    "#print(artist_of_years)  <<확인용 \n"
   ]
  },
  {
   "cell_type": "code",
   "execution_count": 10,
   "metadata": {},
   "outputs": [],
   "source": [
    "#unique한 artist list 생성\n",
    "def set_artist(L1) :\n",
    "    for i in range(len(L1)) :\n",
    "        if L1[i] not in artist :\n",
    "            artist.append(L1[i])\n",
    "\n",
    "artist=[]\n",
    "for i in range(2000,2021) :\n",
    "    set_artist(artist_of_years[i])\n",
    "\n",
    "#print(artist) #<<확인용"
   ]
  },
  {
   "cell_type": "code",
   "execution_count": 11,
   "metadata": {},
   "outputs": [
    {
     "name": "stdout",
     "output_type": "stream",
     "text": [
      "                 2000  2001  2002  2003  2004  2005  2006  2007  2008  2009  \\\n",
      "S.E.S.              1     1     1     0     0     0     0     0     0     0   \n",
      "Paul Cherry         1     0     0     0     0     0     0     0     0     0   \n",
      "Lena Park           1     0     1     0     0     0     0     0     0     0   \n",
      "Jo Sung Mo          1     0     0     0     0     1     0     0     0     0   \n",
      "조규만 Cho Kyu Man     1     0     0     0     0     0     0     0     0     0   \n",
      "...               ...   ...   ...   ...   ...   ...   ...   ...   ...   ...   \n",
      "GFRIEND             0     0     0     0     0     0     0     0     0     0   \n",
      "YooA                0     0     0     0     0     0     0     0     0     0   \n",
      "TREASURE            0     0     0     0     0     0     0     0     0     0   \n",
      "Lovelyz             0     0     0     0     0     0     0     0     0     0   \n",
      "3YE                 0     0     0     0     0     0     0     0     0     0   \n",
      "\n",
      "                 ...  2011  2012  2013  2014  2015  2016  2017  2018  2019  \\\n",
      "S.E.S.           ...     0     0     0     0     0     0     0     0     0   \n",
      "Paul Cherry      ...     0     0     0     0     0     0     0     0     0   \n",
      "Lena Park        ...     1     0     0     0     0     0     0     0     0   \n",
      "Jo Sung Mo       ...     0     0     0     0     0     0     0     0     0   \n",
      "조규만 Cho Kyu Man  ...     0     0     0     0     0     0     0     0     0   \n",
      "...              ...   ...   ...   ...   ...   ...   ...   ...   ...   ...   \n",
      "GFRIEND          ...     0     0     0     0     0     0     0     0     0   \n",
      "YooA             ...     0     0     0     0     0     0     0     0     0   \n",
      "TREASURE         ...     0     0     0     0     0     0     0     0     0   \n",
      "Lovelyz          ...     0     0     0     0     0     0     0     0     0   \n",
      "3YE              ...     0     0     0     0     0     0     0     0     0   \n",
      "\n",
      "                 2020  \n",
      "S.E.S.              0  \n",
      "Paul Cherry         0  \n",
      "Lena Park           0  \n",
      "Jo Sung Mo          0  \n",
      "조규만 Cho Kyu Man     0  \n",
      "...               ...  \n",
      "GFRIEND             1  \n",
      "YooA                1  \n",
      "TREASURE            1  \n",
      "Lovelyz             1  \n",
      "3YE                 1  \n",
      "\n",
      "[367 rows x 21 columns]\n"
     ]
    }
   ],
   "source": [
    "#내 데이터프레임 생성하기\n",
    "my_dic={}\n",
    "for i in range(2000, 2021) :\n",
    "    my_dic[i] = count_num(i, artist_of_years[i])\n",
    "\n",
    "my_col = list(range(2000,2021))\n",
    "\n",
    "my_df = pd.DataFrame(my_dic, columns = my_col, index=artist)\n",
    "print(my_df)  #<<확인용"
   ]
  },
  {
   "cell_type": "code",
   "execution_count": 18,
   "metadata": {},
   "outputs": [
    {
     "data": {
      "image/png": "[encoded data removed]",
      "text/plain": [
       "<Figure size 432x288 with 1 Axes>"
      ]
     },
     "metadata": {},
     "output_type": "display_data"
    }
   ],
   "source": [
    "## 셋 중 하나만 써야함~~\n",
    "\"\"\"\n",
    "#특정 가수의 히트곡 개수 보기\n",
    "name = input('가수 이름 입력: ')\n",
    "show_graph(name)\n",
    "\n",
    "#여러 가수의 히트곡 개수 비교\n",
    "show_graph2()\n",
    "\"\"\"\n",
    "#특정 가수의 히트곡 연도 파이차트 보기\n",
    "name = input('가수 이름 입력: ')\n",
    "show_pie_graph(name)\n"
   ]
  },
  {
   "cell_type": "code",
   "execution_count": null,
   "metadata": {},
   "outputs": [],
   "source": []
  }
 ],
 "metadata": {
  "interpreter": {
   "hash": "64ed87f41c7fdf52c331a867e6a7bb00bcc3d7ca700d58637ec15334591c407b"
  },
  "kernelspec": {
   "display_name": "Python 3.9.7 64-bit ('base': conda)",
   "language": "python",
   "name": "python3"
  },
  "language_info": {
   "codemirror_mode": {
    "name": "ipython",
    "version": 3
   },
   "file_extension": ".py",
   "mimetype": "text/x-python",
   "name": "python",
   "nbconvert_exporter": "python",
   "pygments_lexer": "ipython3",
   "version": "3.9.7"
  },
  "orig_nbformat": 4
 },
 "nbformat": 4,
 "nbformat_minor": 2
}
