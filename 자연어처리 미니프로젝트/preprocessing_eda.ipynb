{
 "cells": [
  {
   "cell_type": "code",
   "execution_count": 4,
   "metadata": {},
   "outputs": [],
   "source": [
    "import pandas as pd\n",
    "import seaborn as sns\n",
    "import matplotlib.pyplot as plt\n",
    "\n",
    "from source.lib import text_only_korean"
   ]
  },
  {
   "cell_type": "markdown",
   "metadata": {},
   "source": [
    "수집 데이터 전처"
   ]
  },
  {
   "cell_type": "code",
   "execution_count": 5,
   "metadata": {},
   "outputs": [
    {
     "data": {
      "text/html": [
       "<div>\n",
       "<style scoped>\n",
       "    .dataframe tbody tr th:only-of-type {\n",
       "        vertical-align: middle;\n",
       "    }\n",
       "\n",
       "    .dataframe tbody tr th {\n",
       "        vertical-align: top;\n",
       "    }\n",
       "\n",
       "    .dataframe thead th {\n",
       "        text-align: right;\n",
       "    }\n",
       "</style>\n",
       "<table border=\"1\" class=\"dataframe\">\n",
       "  <thead>\n",
       "    <tr style=\"text-align: right;\">\n",
       "      <th></th>\n",
       "      <th>id</th>\n",
       "      <th>title</th>\n",
       "      <th>review</th>\n",
       "      <th>score</th>\n",
       "      <th>sentiment</th>\n",
       "    </tr>\n",
       "  </thead>\n",
       "  <tbody>\n",
       "    <tr>\n",
       "      <th>0</th>\n",
       "      <td>17998769</td>\n",
       "      <td>반지의 제왕: 왕의 귀환</td>\n",
       "      <td>판타지를 넘어 영화 역사에 남을 명작이다. 내가 이걸 왜 극장에서 못봤을까.... ...</td>\n",
       "      <td>10.0</td>\n",
       "      <td>NaN</td>\n",
       "    </tr>\n",
       "    <tr>\n",
       "      <th>1</th>\n",
       "      <td>17998767</td>\n",
       "      <td>나일 강의 죽음</td>\n",
       "      <td>이집트여행하는느낌의 영화</td>\n",
       "      <td>8.0</td>\n",
       "      <td>NaN</td>\n",
       "    </tr>\n",
       "    <tr>\n",
       "      <th>2</th>\n",
       "      <td>17998766</td>\n",
       "      <td>킹메이커</td>\n",
       "      <td>목포 연설 장면은 넋을 잃고 보게 된다.</td>\n",
       "      <td>10.0</td>\n",
       "      <td>NaN</td>\n",
       "    </tr>\n",
       "    <tr>\n",
       "      <th>3</th>\n",
       "      <td>17998765</td>\n",
       "      <td>기억의 밤</td>\n",
       "      <td>그저 그렇네요. 뻔한 반전과 결말.</td>\n",
       "      <td>4.0</td>\n",
       "      <td>NaN</td>\n",
       "    </tr>\n",
       "    <tr>\n",
       "      <th>4</th>\n",
       "      <td>17998764</td>\n",
       "      <td>더 배트맨</td>\n",
       "      <td>더 배트맨 조커처럼 몰입감이 있으면 추천 반대로 지루하면 비추천</td>\n",
       "      <td>1.0</td>\n",
       "      <td>NaN</td>\n",
       "    </tr>\n",
       "    <tr>\n",
       "      <th>...</th>\n",
       "      <td>...</td>\n",
       "      <td>...</td>\n",
       "      <td>...</td>\n",
       "      <td>...</td>\n",
       "      <td>...</td>\n",
       "    </tr>\n",
       "    <tr>\n",
       "      <th>9995</th>\n",
       "      <td>17988421</td>\n",
       "      <td>오! 수정</td>\n",
       "      <td>이해할 수 없는 남자와 이해해주는 여자</td>\n",
       "      <td>7.0</td>\n",
       "      <td>NaN</td>\n",
       "    </tr>\n",
       "    <tr>\n",
       "      <th>9996</th>\n",
       "      <td>17988420</td>\n",
       "      <td>이상한 나라의 수학자</td>\n",
       "      <td>배우들 연기력이 장난아님. 역시 최민식 배우는 클라스가 다름!</td>\n",
       "      <td>10.0</td>\n",
       "      <td>NaN</td>\n",
       "    </tr>\n",
       "    <tr>\n",
       "      <th>9997</th>\n",
       "      <td>17988419</td>\n",
       "      <td>블랙라이트</td>\n",
       "      <td>그래도 최근에 나왔던 영화들에 비해 내용이 되게 흥미진진했음 리암 니슨이 덜뛰는 대...</td>\n",
       "      <td>10.0</td>\n",
       "      <td>NaN</td>\n",
       "    </tr>\n",
       "    <tr>\n",
       "      <th>9998</th>\n",
       "      <td>17988418</td>\n",
       "      <td>더 배트맨</td>\n",
       "      <td>누구나 시작은 어설픈 법. 그래서 더 매력적인 히어로</td>\n",
       "      <td>10.0</td>\n",
       "      <td>NaN</td>\n",
       "    </tr>\n",
       "    <tr>\n",
       "      <th>9999</th>\n",
       "      <td>17988417</td>\n",
       "      <td>달라스 바이어스 클럽</td>\n",
       "      <td>병과 싸우기 위해서는 공부해야 한다</td>\n",
       "      <td>7.0</td>\n",
       "      <td>NaN</td>\n",
       "    </tr>\n",
       "  </tbody>\n",
       "</table>\n",
       "<p>10000 rows × 5 columns</p>\n",
       "</div>"
      ],
      "text/plain": [
       "            id          title  \\\n",
       "0     17998769  반지의 제왕: 왕의 귀환   \n",
       "1     17998767       나일 강의 죽음   \n",
       "2     17998766           킹메이커   \n",
       "3     17998765          기억의 밤   \n",
       "4     17998764          더 배트맨   \n",
       "...        ...            ...   \n",
       "9995  17988421          오! 수정   \n",
       "9996  17988420    이상한 나라의 수학자   \n",
       "9997  17988419          블랙라이트   \n",
       "9998  17988418          더 배트맨   \n",
       "9999  17988417    달라스 바이어스 클럽   \n",
       "\n",
       "                                                 review  score  sentiment  \n",
       "0     판타지를 넘어 영화 역사에 남을 명작이다. 내가 이걸 왜 극장에서 못봤을까.... ...   10.0        NaN  \n",
       "1                                         이집트여행하는느낌의 영화    8.0        NaN  \n",
       "2                                목포 연설 장면은 넋을 잃고 보게 된다.   10.0        NaN  \n",
       "3                                   그저 그렇네요. 뻔한 반전과 결말.    4.0        NaN  \n",
       "4                   더 배트맨 조커처럼 몰입감이 있으면 추천 반대로 지루하면 비추천    1.0        NaN  \n",
       "...                                                 ...    ...        ...  \n",
       "9995                              이해할 수 없는 남자와 이해해주는 여자    7.0        NaN  \n",
       "9996                 배우들 연기력이 장난아님. 역시 최민식 배우는 클라스가 다름!   10.0        NaN  \n",
       "9997  그래도 최근에 나왔던 영화들에 비해 내용이 되게 흥미진진했음 리암 니슨이 덜뛰는 대...   10.0        NaN  \n",
       "9998                      누구나 시작은 어설픈 법. 그래서 더 매력적인 히어로   10.0        NaN  \n",
       "9999                                병과 싸우기 위해서는 공부해야 한다    7.0        NaN  \n",
       "\n",
       "[10000 rows x 5 columns]"
      ]
     },
     "execution_count": 5,
     "metadata": {},
     "output_type": "execute_result"
    }
   ],
   "source": [
    "df = pd.read_csv('./data/reviews_1647645839.csv')\n",
    "df"
   ]
  },
  {
   "cell_type": "code",
   "execution_count": 6,
   "metadata": {},
   "outputs": [
    {
     "name": "stdout",
     "output_type": "stream",
     "text": [
      "<class 'pandas.core.frame.DataFrame'>\n",
      "RangeIndex: 10000 entries, 0 to 9999\n",
      "Data columns (total 5 columns):\n",
      " #   Column     Non-Null Count  Dtype  \n",
      "---  ------     --------------  -----  \n",
      " 0   id         10000 non-null  int64  \n",
      " 1   title      10000 non-null  object \n",
      " 2   review     9359 non-null   object \n",
      " 3   score      10000 non-null  float64\n",
      " 4   sentiment  0 non-null      float64\n",
      "dtypes: float64(2), int64(1), object(2)\n",
      "memory usage: 390.8+ KB\n"
     ]
    }
   ],
   "source": [
    "df.info()"
   ]
  },
  {
   "cell_type": "code",
   "execution_count": 7,
   "metadata": {},
   "outputs": [
    {
     "data": {
      "text/plain": [
       "id               0\n",
       "title            0\n",
       "review         641\n",
       "score            0\n",
       "sentiment    10000\n",
       "dtype: int64"
      ]
     },
     "execution_count": 7,
     "metadata": {},
     "output_type": "execute_result"
    }
   ],
   "source": [
    "df.isna().sum()"
   ]
  },
  {
   "cell_type": "code",
   "execution_count": 8,
   "metadata": {},
   "outputs": [
    {
     "name": "stdout",
     "output_type": "stream",
     "text": [
      "before drop duplicated :  10000\n",
      "after drop duplicated :  9998\n"
     ]
    }
   ],
   "source": [
    "# drop duplicated rows\n",
    "print('before drop duplicated : ',df.shape[0])\n",
    "df.drop_duplicates(subset=['id'],ignore_index=True,inplace=True)\n",
    "print('after drop duplicated : ',df.shape[0])"
   ]
  },
  {
   "cell_type": "code",
   "execution_count": 9,
   "metadata": {},
   "outputs": [
    {
     "name": "stdout",
     "output_type": "stream",
     "text": [
      "before drop duplicated :  9998\n",
      "after drop duplicated :  9357\n"
     ]
    }
   ],
   "source": [
    "# don't need any review that has no review\n",
    "print('before drop duplicated : ',df.shape[0])\n",
    "df.dropna(subset=['review'],axis=0,inplace=True)\n",
    "print('after drop duplicated : ',df.shape[0])"
   ]
  },
  {
   "cell_type": "code",
   "execution_count": 10,
   "metadata": {},
   "outputs": [
    {
     "data": {
      "text/plain": [
       "id              0\n",
       "title           0\n",
       "review          0\n",
       "score           0\n",
       "sentiment    9357\n",
       "dtype: int64"
      ]
     },
     "execution_count": 10,
     "metadata": {},
     "output_type": "execute_result"
    }
   ],
   "source": [
    "df.isna().sum()"
   ]
  },
  {
   "cell_type": "code",
   "execution_count": 11,
   "metadata": {},
   "outputs": [
    {
     "data": {
      "text/plain": [
       "(9357, 5)"
      ]
     },
     "execution_count": 11,
     "metadata": {},
     "output_type": "execute_result"
    }
   ],
   "source": [
    "df.shape"
   ]
  },
  {
   "cell_type": "code",
   "execution_count": 12,
   "metadata": {},
   "outputs": [
    {
     "data": {
      "text/plain": [
       "<AxesSubplot:xlabel='score', ylabel='count'>"
      ]
     },
     "execution_count": 12,
     "metadata": {},
     "output_type": "execute_result"
    },
    {
     "data": {
      "image/png": "[encoded data removed]",
      "text/plain": [
       "<Figure size 432x288 with 1 Axes>"
      ]
     },
     "metadata": {
      "needs_background": "light"
     },
     "output_type": "display_data"
    }
   ],
   "source": [
    "sns.countplot(data=df,x='score')"
   ]
  },
  {
   "cell_type": "markdown",
   "metadata": {},
   "source": [
    "훈련용 학습셋이 별도로 필요할 것으로 보임\n",
    "\n",
    "[출처](https://github.com/e9t/nsmc/)로부터 추가 데이터셋을 구비함\n",
    "\n",
    "직접 구비한 데이터셋은 차후 사용"
   ]
  },
  {
   "cell_type": "code",
   "execution_count": 13,
   "metadata": {},
   "outputs": [],
   "source": [
    "df.to_csv('./data/processed/df.csv',index=False)"
   ]
  }
 ],
 "metadata": {
  "interpreter": {
   "hash": "b4fe7a65e16781ebce1fdb8c74096656eac6964dbb1774f4c65d543e2bcc2ead"
  },
  "kernelspec": {
   "display_name": "Python 3.6.13 ('nlp')",
   "language": "python",
   "name": "python3"
  },
  "language_info": {
   "codemirror_mode": {
    "name": "ipython",
    "version": 3
   },
   "file_extension": ".py",
   "mimetype": "text/x-python",
   "name": "python",
   "nbconvert_exporter": "python",
   "pygments_lexer": "ipython3",
   "version": "3.6.13"
  },
  "orig_nbformat": 4
 },
 "nbformat": 4,
 "nbformat_minor": 2
}
