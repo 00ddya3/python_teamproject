{
 "cells": [
  {
   "cell_type": "code",
   "execution_count": 1,
   "metadata": {},
   "outputs": [],
   "source": [
    "import pandas as pd\n",
    "import numpy as np\n",
    "import matplotlib.pyplot as plt\n",
    "import seaborn as sns"
   ]
  },
  {
   "cell_type": "code",
   "execution_count": 2,
   "metadata": {},
   "outputs": [
    {
     "data": {
      "text/html": [
       "<div>\n",
       "<style scoped>\n",
       "    .dataframe tbody tr th:only-of-type {\n",
       "        vertical-align: middle;\n",
       "    }\n",
       "\n",
       "    .dataframe tbody tr th {\n",
       "        vertical-align: top;\n",
       "    }\n",
       "\n",
       "    .dataframe thead th {\n",
       "        text-align: right;\n",
       "    }\n",
       "</style>\n",
       "<table border=\"1\" class=\"dataframe\">\n",
       "  <thead>\n",
       "    <tr style=\"text-align: right;\">\n",
       "      <th></th>\n",
       "      <th>station_id</th>\n",
       "      <th>station_name</th>\n",
       "      <th>subway</th>\n",
       "      <th>complex</th>\n",
       "      <th>market</th>\n",
       "      <th>before</th>\n",
       "      <th>after</th>\n",
       "    </tr>\n",
       "  </thead>\n",
       "  <tbody>\n",
       "    <tr>\n",
       "      <th>0</th>\n",
       "      <td>119000104</td>\n",
       "      <td>7호선장승배기역.상도2치안센터</td>\n",
       "      <td>1</td>\n",
       "      <td>0</td>\n",
       "      <td>2</td>\n",
       "      <td>7544</td>\n",
       "      <td>8000</td>\n",
       "    </tr>\n",
       "    <tr>\n",
       "      <th>1</th>\n",
       "      <td>119000104</td>\n",
       "      <td>7호선장승배기역.상도2치안센터</td>\n",
       "      <td>1</td>\n",
       "      <td>0</td>\n",
       "      <td>2</td>\n",
       "      <td>7633</td>\n",
       "      <td>6686</td>\n",
       "    </tr>\n",
       "    <tr>\n",
       "      <th>2</th>\n",
       "      <td>119000104</td>\n",
       "      <td>7호선장승배기역.상도2치안센터</td>\n",
       "      <td>1</td>\n",
       "      <td>0</td>\n",
       "      <td>2</td>\n",
       "      <td>8851</td>\n",
       "      <td>8644</td>\n",
       "    </tr>\n",
       "    <tr>\n",
       "      <th>3</th>\n",
       "      <td>119000104</td>\n",
       "      <td>7호선장승배기역.상도2치안센터</td>\n",
       "      <td>1</td>\n",
       "      <td>0</td>\n",
       "      <td>2</td>\n",
       "      <td>8365</td>\n",
       "      <td>8804</td>\n",
       "    </tr>\n",
       "    <tr>\n",
       "      <th>4</th>\n",
       "      <td>119000104</td>\n",
       "      <td>7호선장승배기역.상도2치안센터</td>\n",
       "      <td>1</td>\n",
       "      <td>0</td>\n",
       "      <td>2</td>\n",
       "      <td>8184</td>\n",
       "      <td>9153</td>\n",
       "    </tr>\n",
       "  </tbody>\n",
       "</table>\n",
       "</div>"
      ],
      "text/plain": [
       "   station_id      station_name  subway  complex  market  before  after\n",
       "0   119000104  7호선장승배기역.상도2치안센터       1        0       2    7544   8000\n",
       "1   119000104  7호선장승배기역.상도2치안센터       1        0       2    7633   6686\n",
       "2   119000104  7호선장승배기역.상도2치안센터       1        0       2    8851   8644\n",
       "3   119000104  7호선장승배기역.상도2치안센터       1        0       2    8365   8804\n",
       "4   119000104  7호선장승배기역.상도2치안센터       1        0       2    8184   9153"
      ]
     },
     "execution_count": 2,
     "metadata": {},
     "output_type": "execute_result"
    }
   ],
   "source": [
    "data = pd.read_csv(\"./서울최종.csv\", encoding='cp949')\n",
    "data.drop('Unnamed: 0', axis=1, inplace=True)\n",
    "data.head()"
   ]
  },
  {
   "cell_type": "code",
   "execution_count": 3,
   "metadata": {},
   "outputs": [
    {
     "data": {
      "text/html": [
       "<div>\n",
       "<style scoped>\n",
       "    .dataframe tbody tr th:only-of-type {\n",
       "        vertical-align: middle;\n",
       "    }\n",
       "\n",
       "    .dataframe tbody tr th {\n",
       "        vertical-align: top;\n",
       "    }\n",
       "\n",
       "    .dataframe thead th {\n",
       "        text-align: right;\n",
       "    }\n",
       "</style>\n",
       "<table border=\"1\" class=\"dataframe\">\n",
       "  <thead>\n",
       "    <tr style=\"text-align: right;\">\n",
       "      <th></th>\n",
       "      <th>station_id</th>\n",
       "      <th>subway</th>\n",
       "      <th>complex</th>\n",
       "      <th>market</th>\n",
       "      <th>before</th>\n",
       "      <th>after</th>\n",
       "    </tr>\n",
       "  </thead>\n",
       "  <tbody>\n",
       "    <tr>\n",
       "      <th>count</th>\n",
       "      <td>2.160000e+03</td>\n",
       "      <td>2160.000000</td>\n",
       "      <td>2160.0</td>\n",
       "      <td>2160.000000</td>\n",
       "      <td>2160.000000</td>\n",
       "      <td>2160.000000</td>\n",
       "    </tr>\n",
       "    <tr>\n",
       "      <th>mean</th>\n",
       "      <td>1.166779e+08</td>\n",
       "      <td>0.622222</td>\n",
       "      <td>0.0</td>\n",
       "      <td>0.800000</td>\n",
       "      <td>16990.263889</td>\n",
       "      <td>17298.117593</td>\n",
       "    </tr>\n",
       "    <tr>\n",
       "      <th>std</th>\n",
       "      <td>6.004811e+06</td>\n",
       "      <td>0.724012</td>\n",
       "      <td>0.0</td>\n",
       "      <td>0.897116</td>\n",
       "      <td>18128.775777</td>\n",
       "      <td>17406.115586</td>\n",
       "    </tr>\n",
       "    <tr>\n",
       "      <th>min</th>\n",
       "      <td>1.050001e+08</td>\n",
       "      <td>0.000000</td>\n",
       "      <td>0.0</td>\n",
       "      <td>0.000000</td>\n",
       "      <td>662.000000</td>\n",
       "      <td>808.000000</td>\n",
       "    </tr>\n",
       "    <tr>\n",
       "      <th>25%</th>\n",
       "      <td>1.110001e+08</td>\n",
       "      <td>0.000000</td>\n",
       "      <td>0.0</td>\n",
       "      <td>0.000000</td>\n",
       "      <td>6953.750000</td>\n",
       "      <td>7381.500000</td>\n",
       "    </tr>\n",
       "    <tr>\n",
       "      <th>50%</th>\n",
       "      <td>1.190001e+08</td>\n",
       "      <td>0.000000</td>\n",
       "      <td>0.0</td>\n",
       "      <td>1.000000</td>\n",
       "      <td>11156.500000</td>\n",
       "      <td>11615.500000</td>\n",
       "    </tr>\n",
       "    <tr>\n",
       "      <th>75%</th>\n",
       "      <td>1.200002e+08</td>\n",
       "      <td>1.000000</td>\n",
       "      <td>0.0</td>\n",
       "      <td>1.000000</td>\n",
       "      <td>20302.500000</td>\n",
       "      <td>21394.500000</td>\n",
       "    </tr>\n",
       "    <tr>\n",
       "      <th>max</th>\n",
       "      <td>1.230003e+08</td>\n",
       "      <td>2.000000</td>\n",
       "      <td>0.0</td>\n",
       "      <td>4.000000</td>\n",
       "      <td>133607.000000</td>\n",
       "      <td>134496.000000</td>\n",
       "    </tr>\n",
       "  </tbody>\n",
       "</table>\n",
       "</div>"
      ],
      "text/plain": [
       "         station_id       subway  complex       market         before  \\\n",
       "count  2.160000e+03  2160.000000   2160.0  2160.000000    2160.000000   \n",
       "mean   1.166779e+08     0.622222      0.0     0.800000   16990.263889   \n",
       "std    6.004811e+06     0.724012      0.0     0.897116   18128.775777   \n",
       "min    1.050001e+08     0.000000      0.0     0.000000     662.000000   \n",
       "25%    1.110001e+08     0.000000      0.0     0.000000    6953.750000   \n",
       "50%    1.190001e+08     0.000000      0.0     1.000000   11156.500000   \n",
       "75%    1.200002e+08     1.000000      0.0     1.000000   20302.500000   \n",
       "max    1.230003e+08     2.000000      0.0     4.000000  133607.000000   \n",
       "\n",
       "               after  \n",
       "count    2160.000000  \n",
       "mean    17298.117593  \n",
       "std     17406.115586  \n",
       "min       808.000000  \n",
       "25%      7381.500000  \n",
       "50%     11615.500000  \n",
       "75%     21394.500000  \n",
       "max    134496.000000  "
      ]
     },
     "execution_count": 3,
     "metadata": {},
     "output_type": "execute_result"
    }
   ],
   "source": [
    "data.describe()"
   ]
  },
  {
   "cell_type": "markdown",
   "metadata": {},
   "source": [
    "### 상관관계 행렬"
   ]
  },
  {
   "cell_type": "code",
   "execution_count": 4,
   "metadata": {},
   "outputs": [
    {
     "data": {
      "image/png": "[encoded data removed]",
      "text/plain": [
       "<Figure size 720x720 with 1 Axes>"
      ]
     },
     "metadata": {
      "needs_background": "light"
     },
     "output_type": "display_data"
    }
   ],
   "source": [
    "#상관관계행렬\n",
    "df_corr = data.corr()\n",
    "\n",
    "#히트맵그리기\n",
    "plt.figure(figsize = (10, 10))\n",
    "sns.set(font_scale=0.8)\n",
    "sns.heatmap(df_corr, annot=True, cbar=False)\n",
    "plt.show()"
   ]
  },
  {
   "cell_type": "markdown",
   "metadata": {},
   "source": [
    "### 선형회귀선 표시"
   ]
  },
  {
   "cell_type": "code",
   "execution_count": 18,
   "metadata": {},
   "outputs": [
    {
     "data": {
      "image/png": "[encoded data removed]",
      "text/plain": [
       "<Figure size 1080x504 with 3 Axes>"
      ]
     },
     "metadata": {},
     "output_type": "display_data"
    }
   ],
   "source": [
    "d_cols = ['subway', 'market', 'before']\n",
    "\n",
    "plt.figure(figsize=(15,7))\n",
    "for idx, col in enumerate(d_cols) :\n",
    "    ax1 = plt.subplot(1,3, idx+1)\n",
    "    sns.regplot(x=col, y='after', data=data, ax=ax1)\n",
    "plt.show()"
   ]
  },
  {
   "cell_type": "markdown",
   "metadata": {},
   "source": [
    "### 타겟데이터 분포 확인"
   ]
  },
  {
   "cell_type": "code",
   "execution_count": 19,
   "metadata": {},
   "outputs": [
    {
     "data": {
      "text/plain": [
       "<seaborn.axisgrid.FacetGrid at 0x200713e0d30>"
      ]
     },
     "execution_count": 19,
     "metadata": {},
     "output_type": "execute_result"
    },
    {
     "data": {
      "image/png": "[encoded data removed]",
      "text/plain": [
       "<Figure size 360x360 with 1 Axes>"
      ]
     },
     "metadata": {},
     "output_type": "display_data"
    }
   ],
   "source": [
    "sns.displot(x='after', kind='hist', data=data)"
   ]
  },
  {
   "cell_type": "code",
   "execution_count": 23,
   "metadata": {},
   "outputs": [
    {
     "data": {
      "text/html": [
       "<div>\n",
       "<style scoped>\n",
       "    .dataframe tbody tr th:only-of-type {\n",
       "        vertical-align: middle;\n",
       "    }\n",
       "\n",
       "    .dataframe tbody tr th {\n",
       "        vertical-align: top;\n",
       "    }\n",
       "\n",
       "    .dataframe thead th {\n",
       "        text-align: right;\n",
       "    }\n",
       "</style>\n",
       "<table border=\"1\" class=\"dataframe\">\n",
       "  <thead>\n",
       "    <tr style=\"text-align: right;\">\n",
       "      <th></th>\n",
       "      <th>station_id</th>\n",
       "      <th>station_name</th>\n",
       "      <th>subway</th>\n",
       "      <th>complex</th>\n",
       "      <th>market</th>\n",
       "      <th>before</th>\n",
       "      <th>after</th>\n",
       "    </tr>\n",
       "  </thead>\n",
       "  <tbody>\n",
       "    <tr>\n",
       "      <th>228</th>\n",
       "      <td>119000024</td>\n",
       "      <td>노량진역</td>\n",
       "      <td>1</td>\n",
       "      <td>0</td>\n",
       "      <td>1</td>\n",
       "      <td>110894</td>\n",
       "      <td>123789</td>\n",
       "    </tr>\n",
       "    <tr>\n",
       "      <th>229</th>\n",
       "      <td>119000024</td>\n",
       "      <td>노량진역</td>\n",
       "      <td>1</td>\n",
       "      <td>0</td>\n",
       "      <td>1</td>\n",
       "      <td>111480</td>\n",
       "      <td>100175</td>\n",
       "    </tr>\n",
       "    <tr>\n",
       "      <th>230</th>\n",
       "      <td>119000024</td>\n",
       "      <td>노량진역</td>\n",
       "      <td>1</td>\n",
       "      <td>0</td>\n",
       "      <td>1</td>\n",
       "      <td>133607</td>\n",
       "      <td>129862</td>\n",
       "    </tr>\n",
       "    <tr>\n",
       "      <th>231</th>\n",
       "      <td>119000024</td>\n",
       "      <td>노량진역</td>\n",
       "      <td>1</td>\n",
       "      <td>0</td>\n",
       "      <td>1</td>\n",
       "      <td>124469</td>\n",
       "      <td>134496</td>\n",
       "    </tr>\n",
       "    <tr>\n",
       "      <th>232</th>\n",
       "      <td>119000024</td>\n",
       "      <td>노량진역</td>\n",
       "      <td>1</td>\n",
       "      <td>0</td>\n",
       "      <td>1</td>\n",
       "      <td>123004</td>\n",
       "      <td>132849</td>\n",
       "    </tr>\n",
       "    <tr>\n",
       "      <th>233</th>\n",
       "      <td>119000024</td>\n",
       "      <td>노량진역</td>\n",
       "      <td>1</td>\n",
       "      <td>0</td>\n",
       "      <td>1</td>\n",
       "      <td>124095</td>\n",
       "      <td>118443</td>\n",
       "    </tr>\n",
       "    <tr>\n",
       "      <th>234</th>\n",
       "      <td>119000024</td>\n",
       "      <td>노량진역</td>\n",
       "      <td>1</td>\n",
       "      <td>0</td>\n",
       "      <td>1</td>\n",
       "      <td>121696</td>\n",
       "      <td>130871</td>\n",
       "    </tr>\n",
       "    <tr>\n",
       "      <th>235</th>\n",
       "      <td>119000024</td>\n",
       "      <td>노량진역</td>\n",
       "      <td>1</td>\n",
       "      <td>0</td>\n",
       "      <td>1</td>\n",
       "      <td>123653</td>\n",
       "      <td>121065</td>\n",
       "    </tr>\n",
       "    <tr>\n",
       "      <th>236</th>\n",
       "      <td>119000024</td>\n",
       "      <td>노량진역</td>\n",
       "      <td>1</td>\n",
       "      <td>0</td>\n",
       "      <td>1</td>\n",
       "      <td>130823</td>\n",
       "      <td>118788</td>\n",
       "    </tr>\n",
       "    <tr>\n",
       "      <th>237</th>\n",
       "      <td>119000024</td>\n",
       "      <td>노량진역</td>\n",
       "      <td>1</td>\n",
       "      <td>0</td>\n",
       "      <td>1</td>\n",
       "      <td>107762</td>\n",
       "      <td>132644</td>\n",
       "    </tr>\n",
       "    <tr>\n",
       "      <th>238</th>\n",
       "      <td>119000024</td>\n",
       "      <td>노량진역</td>\n",
       "      <td>1</td>\n",
       "      <td>0</td>\n",
       "      <td>1</td>\n",
       "      <td>129955</td>\n",
       "      <td>127564</td>\n",
       "    </tr>\n",
       "    <tr>\n",
       "      <th>239</th>\n",
       "      <td>119000024</td>\n",
       "      <td>노량진역</td>\n",
       "      <td>1</td>\n",
       "      <td>0</td>\n",
       "      <td>1</td>\n",
       "      <td>114552</td>\n",
       "      <td>118872</td>\n",
       "    </tr>\n",
       "    <tr>\n",
       "      <th>636</th>\n",
       "      <td>120000018</td>\n",
       "      <td>신림사거리.신림역</td>\n",
       "      <td>1</td>\n",
       "      <td>0</td>\n",
       "      <td>2</td>\n",
       "      <td>107158</td>\n",
       "      <td>114661</td>\n",
       "    </tr>\n",
       "    <tr>\n",
       "      <th>638</th>\n",
       "      <td>120000018</td>\n",
       "      <td>신림사거리.신림역</td>\n",
       "      <td>1</td>\n",
       "      <td>0</td>\n",
       "      <td>2</td>\n",
       "      <td>124462</td>\n",
       "      <td>115952</td>\n",
       "    </tr>\n",
       "    <tr>\n",
       "      <th>639</th>\n",
       "      <td>120000018</td>\n",
       "      <td>신림사거리.신림역</td>\n",
       "      <td>1</td>\n",
       "      <td>0</td>\n",
       "      <td>2</td>\n",
       "      <td>117899</td>\n",
       "      <td>121485</td>\n",
       "    </tr>\n",
       "    <tr>\n",
       "      <th>640</th>\n",
       "      <td>120000018</td>\n",
       "      <td>신림사거리.신림역</td>\n",
       "      <td>1</td>\n",
       "      <td>0</td>\n",
       "      <td>2</td>\n",
       "      <td>114149</td>\n",
       "      <td>121206</td>\n",
       "    </tr>\n",
       "    <tr>\n",
       "      <th>641</th>\n",
       "      <td>120000018</td>\n",
       "      <td>신림사거리.신림역</td>\n",
       "      <td>1</td>\n",
       "      <td>0</td>\n",
       "      <td>2</td>\n",
       "      <td>115626</td>\n",
       "      <td>109405</td>\n",
       "    </tr>\n",
       "    <tr>\n",
       "      <th>642</th>\n",
       "      <td>120000018</td>\n",
       "      <td>신림사거리.신림역</td>\n",
       "      <td>1</td>\n",
       "      <td>0</td>\n",
       "      <td>2</td>\n",
       "      <td>111257</td>\n",
       "      <td>119456</td>\n",
       "    </tr>\n",
       "    <tr>\n",
       "      <th>643</th>\n",
       "      <td>120000018</td>\n",
       "      <td>신림사거리.신림역</td>\n",
       "      <td>1</td>\n",
       "      <td>0</td>\n",
       "      <td>2</td>\n",
       "      <td>112118</td>\n",
       "      <td>111816</td>\n",
       "    </tr>\n",
       "    <tr>\n",
       "      <th>644</th>\n",
       "      <td>120000018</td>\n",
       "      <td>신림사거리.신림역</td>\n",
       "      <td>1</td>\n",
       "      <td>0</td>\n",
       "      <td>2</td>\n",
       "      <td>116992</td>\n",
       "      <td>106864</td>\n",
       "    </tr>\n",
       "    <tr>\n",
       "      <th>645</th>\n",
       "      <td>120000018</td>\n",
       "      <td>신림사거리.신림역</td>\n",
       "      <td>1</td>\n",
       "      <td>0</td>\n",
       "      <td>2</td>\n",
       "      <td>98676</td>\n",
       "      <td>118115</td>\n",
       "    </tr>\n",
       "    <tr>\n",
       "      <th>646</th>\n",
       "      <td>120000018</td>\n",
       "      <td>신림사거리.신림역</td>\n",
       "      <td>1</td>\n",
       "      <td>0</td>\n",
       "      <td>2</td>\n",
       "      <td>116432</td>\n",
       "      <td>115803</td>\n",
       "    </tr>\n",
       "    <tr>\n",
       "      <th>647</th>\n",
       "      <td>120000018</td>\n",
       "      <td>신림사거리.신림역</td>\n",
       "      <td>1</td>\n",
       "      <td>0</td>\n",
       "      <td>2</td>\n",
       "      <td>110568</td>\n",
       "      <td>113800</td>\n",
       "    </tr>\n",
       "  </tbody>\n",
       "</table>\n",
       "</div>"
      ],
      "text/plain": [
       "     station_id station_name  subway  complex  market  before   after\n",
       "228   119000024         노량진역       1        0       1  110894  123789\n",
       "229   119000024         노량진역       1        0       1  111480  100175\n",
       "230   119000024         노량진역       1        0       1  133607  129862\n",
       "231   119000024         노량진역       1        0       1  124469  134496\n",
       "232   119000024         노량진역       1        0       1  123004  132849\n",
       "233   119000024         노량진역       1        0       1  124095  118443\n",
       "234   119000024         노량진역       1        0       1  121696  130871\n",
       "235   119000024         노량진역       1        0       1  123653  121065\n",
       "236   119000024         노량진역       1        0       1  130823  118788\n",
       "237   119000024         노량진역       1        0       1  107762  132644\n",
       "238   119000024         노량진역       1        0       1  129955  127564\n",
       "239   119000024         노량진역       1        0       1  114552  118872\n",
       "636   120000018    신림사거리.신림역       1        0       2  107158  114661\n",
       "638   120000018    신림사거리.신림역       1        0       2  124462  115952\n",
       "639   120000018    신림사거리.신림역       1        0       2  117899  121485\n",
       "640   120000018    신림사거리.신림역       1        0       2  114149  121206\n",
       "641   120000018    신림사거리.신림역       1        0       2  115626  109405\n",
       "642   120000018    신림사거리.신림역       1        0       2  111257  119456\n",
       "643   120000018    신림사거리.신림역       1        0       2  112118  111816\n",
       "644   120000018    신림사거리.신림역       1        0       2  116992  106864\n",
       "645   120000018    신림사거리.신림역       1        0       2   98676  118115\n",
       "646   120000018    신림사거리.신림역       1        0       2  116432  115803\n",
       "647   120000018    신림사거리.신림역       1        0       2  110568  113800"
      ]
     },
     "execution_count": 23,
     "metadata": {},
     "output_type": "execute_result"
    }
   ],
   "source": [
    "data[data['after'] > 100000]"
   ]
  },
  {
   "cell_type": "code",
   "execution_count": 34,
   "metadata": {},
   "outputs": [
    {
     "data": {
      "text/plain": [
       "<seaborn.axisgrid.PairGrid at 0x20074591910>"
      ]
     },
     "execution_count": 34,
     "metadata": {},
     "output_type": "execute_result"
    },
    {
     "data": {
      "image/png": "[encoded data removed]",
      "text/plain": [
       "<Figure size 1080x1080 with 42 Axes>"
      ]
     },
     "metadata": {},
     "output_type": "display_data"
    }
   ],
   "source": [
    "sns.pairplot(data, diag_kind='kde')"
   ]
  },
  {
   "cell_type": "code",
   "execution_count": 116,
   "metadata": {},
   "outputs": [],
   "source": [
    "def plot_importance(model, features) :\n",
    "    importances = model.feature_importances_\n",
    "    indices = np.argsort(importances)\n",
    "    feature_names = [features[i] for i in indices]\n",
    "    feature_imp = importances[indices]\n",
    "\n",
    "    plt.figure(figsize = (8, 6))\n",
    "    plt.title('Feature importances')\n",
    "    plt.barh(range(len(indices)), feature_imp, align='center')\n",
    "    plt.yticks(range(len(indices)), feature_names)\n",
    "    plt.xlabel('relative importance')\n",
    "\n",
    "    print('feature : ', list(reversed(feature_names)))\n",
    "    print('importance : ', list(reversed(feature_imp)))\n",
    "\n",
    "    return list(reversed(feature_names)), list(reversed(feature_imp))"
   ]
  },
  {
   "cell_type": "code",
   "execution_count": 126,
   "metadata": {},
   "outputs": [
    {
     "name": "stdout",
     "output_type": "stream",
     "text": [
      "feature :  [3, 2, 0, 1]\n",
      "importance :  [0.9850328734820516, 0.011036496668459057, 0.003930629849489345, 0.0]\n"
     ]
    },
    {
     "data": {
      "image/png": "[encoded data removed]",
      "text/plain": [
       "<Figure size 576x432 with 1 Axes>"
      ]
     },
     "metadata": {},
     "output_type": "display_data"
    }
   ],
   "source": [
    "#x_train\n",
    "#xx = pd.DataFrame(x_train)\n",
    "#type(xx)\n",
    "#xx\n",
    "imp_features, imp_scores = plot_importance(rfr, xx.columns)"
   ]
  },
  {
   "cell_type": "code",
   "execution_count": 12,
   "metadata": {},
   "outputs": [
    {
     "data": {
      "text/plain": [
       "<AxesSubplot:xlabel='after', ylabel='Count'>"
      ]
     },
     "execution_count": 12,
     "metadata": {},
     "output_type": "execute_result"
    },
    {
     "data": {
      "image/png": "[encoded data removed]",
      "text/plain": [
       "<Figure size 432x288 with 1 Axes>"
      ]
     },
     "metadata": {},
     "output_type": "display_data"
    }
   ],
   "source": [
    "sns.histplot(data=data, x='after', hue='market', fill=True, element='poly')"
   ]
  },
  {
   "cell_type": "code",
   "execution_count": 13,
   "metadata": {},
   "outputs": [
    {
     "data": {
      "text/plain": [
       "<AxesSubplot:xlabel='after', ylabel='Count'>"
      ]
     },
     "execution_count": 13,
     "metadata": {},
     "output_type": "execute_result"
    },
    {
     "data": {
      "image/png": "[encoded data removed]",
      "text/plain": [
       "<Figure size 432x288 with 1 Axes>"
      ]
     },
     "metadata": {},
     "output_type": "display_data"
    }
   ],
   "source": [
    "sns.histplot(data=data, x='after', hue='subway', fill=True, element='poly')"
   ]
  },
  {
   "cell_type": "code",
   "execution_count": 91,
   "metadata": {},
   "outputs": [],
   "source": [
    "from sklearn.model_selection import train_test_split\n",
    "from sklearn.preprocessing import StandardScaler\n",
    "\n",
    "from sklearn.ensemble import RandomForestRegressor\n",
    "from sklearn.metrics import mean_absolute_error\n",
    "from sklearn.metrics import mean_squared_error\n",
    "\n",
    "from sklearn.linear_model import LinearRegression\n",
    "\n",
    "from sklearn.ensemble import GradientBoostingRegressor\n",
    "from sklearn.model_selection import GridSearchCV\n",
    "\n",
    "from sklearn import tree\n",
    "from sklearn import metrics\n",
    "\n",
    "from sklearn.preprocessing import PolynomialFeatures\n",
    "from sklearn.linear_model import LinearRegression\n",
    "\n",
    "from catboost import CatBoostRegressor\n",
    "from lightgbm import LGBMRegressor"
   ]
  },
  {
   "cell_type": "code",
   "execution_count": 27,
   "metadata": {},
   "outputs": [
    {
     "name": "stdout",
     "output_type": "stream",
     "text": [
      "x_train shape: (1728, 4) \n",
      "x_test shape: (432, 4)\n"
     ]
    }
   ],
   "source": [
    "x_data = data[['subway', 'complex', 'market', 'before']]\n",
    "y_data = data['after']\n",
    "\n",
    "# train, test data split\n",
    "x_train, x_test, y_train, y_test=train_test_split(x_data, y_data, test_size=0.2, shuffle=True, random_state=10)\n",
    "\n",
    "print('x_train shape:', x_train.shape, '\\nx_test shape:', x_test.shape)"
   ]
  },
  {
   "cell_type": "code",
   "execution_count": 28,
   "metadata": {},
   "outputs": [],
   "source": [
    "# data scale 조정\n",
    "scaler = StandardScaler()\n",
    "scaler.fit(x_train)\n",
    "x_train = scaler.transform(x_train)\n",
    "x_test = scaler.transform(x_test)"
   ]
  },
  {
   "cell_type": "code",
   "execution_count": 231,
   "metadata": {},
   "outputs": [],
   "source": [
    "comp_dict = {}\n",
    "comp_dict2 = []\n",
    "comp_dict3 = []"
   ]
  },
  {
   "cell_type": "markdown",
   "metadata": {},
   "source": [
    "### 의사결정나무"
   ]
  },
  {
   "cell_type": "code",
   "execution_count": 232,
   "metadata": {},
   "outputs": [
    {
     "name": "stdout",
     "output_type": "stream",
     "text": [
      "Train data's R2-score : 0.9999382883084122\n",
      "Test data's R2-score : 0.949206080327652\n",
      "MSE : 3826.816073048775\n",
      "MAE : 2218.365740740741\n"
     ]
    }
   ],
   "source": [
    "dtr = tree.DecisionTreeRegressor(random_state=10)\n",
    "dtr.fit(x_train, y_train)\n",
    "\n",
    "y_pred = dtr.predict(x_test)\n",
    "\n",
    "# train data 정확도 R2(R-squared) 측정\n",
    "print('Train data\\'s R2-score :', format(dtr.score(x_train, y_train)))\n",
    "# test data 정확도 R2(R-squared) 측정\n",
    "print('Test data\\'s R2-score :', format(dtr.score(x_test,y_test)))\n",
    "# test data 평균제곱오차(MSE) 측정\n",
    "print('MSE :', mean_squared_error(y_pred, y_test, squared=False))\n",
    "# test data 평균절대값오차(MAE) 측정\n",
    "print('MAE :', mean_absolute_error(y_test, y_pred))"
   ]
  },
  {
   "cell_type": "code",
   "execution_count": 233,
   "metadata": {},
   "outputs": [],
   "source": [
    "#데이터프레임에 넣기\n",
    "test_r2 = dtr.score(x_test,y_test)\n",
    "rmse = np.sqrt(mean_squared_error(y_pred, y_test, squared=False))\n",
    "mae = mean_absolute_error(y_test, y_pred)\n",
    "\n",
    "comp_dict['DecisionTree'] = test_r2\n",
    "comp_dict2.append(rmse)\n",
    "comp_dict3.append(mae)"
   ]
  },
  {
   "cell_type": "markdown",
   "metadata": {},
   "source": [
    "### 랜덤포레스트"
   ]
  },
  {
   "cell_type": "code",
   "execution_count": 234,
   "metadata": {},
   "outputs": [
    {
     "name": "stdout",
     "output_type": "stream",
     "text": [
      "Train data's R2-score : 0.9938081513845303\n",
      "Test data's R2-score : 0.9681289745113021\n",
      "MSE : 3031.3057568646036\n",
      "MAE : 1830.4149081790124\n"
     ]
    }
   ],
   "source": [
    "# 랜덤 포레스트 모델링\n",
    "rfr = RandomForestRegressor(n_estimators=50, random_state = 7)\n",
    "rfr.fit(x_train,y_train)\n",
    "\n",
    "y_pred = rfr.predict(x_test)\n",
    "\n",
    "# train data 정확도 R2(R-squared) 측정\n",
    "print('Train data\\'s R2-score :', format(rfr.score(x_train, y_train)))\n",
    "# test data 정확도 R2(R-squared) 측정\n",
    "print('Test data\\'s R2-score :', format(rfr.score(x_test,y_test)))\n",
    "# test data 평균제곱오차(MSE) 측정\n",
    "print('MSE :', mean_squared_error(y_pred, y_test, squared=False))\n",
    "# test data 평균절대값오차(MAE) 측정\n",
    "print('MAE :', mean_absolute_error(y_test, y_pred))"
   ]
  },
  {
   "cell_type": "code",
   "execution_count": 235,
   "metadata": {},
   "outputs": [],
   "source": [
    "#데이터프레임에 넣기\n",
    "test_r2 = rfr.score(x_test,y_test)\n",
    "rmse = np.sqrt(mean_squared_error(y_pred, y_test, squared=False))\n",
    "mae = mean_absolute_error(y_test, y_pred)\n",
    "\n",
    "comp_dict['RandomForest'] = test_r2\n",
    "comp_dict2.append(rmse)\n",
    "comp_dict3.append(mae)"
   ]
  },
  {
   "cell_type": "markdown",
   "metadata": {},
   "source": [
    "### 다중선형회귀"
   ]
  },
  {
   "cell_type": "code",
   "execution_count": 236,
   "metadata": {},
   "outputs": [
    {
     "name": "stdout",
     "output_type": "stream",
     "text": [
      "Train data's Accuracy :  0.958239567855028\n",
      "Test data's Accuracy :  0.9509098477476948\n",
      "MSE : 3762.087696535182\n",
      "MAE : 2024.9561813066784\n"
     ]
    }
   ],
   "source": [
    "# 다중선형회귀 모델링\n",
    "lr = LinearRegression(fit_intercept=True, normalize=True, copy_X=True)\n",
    "lr.fit(x_train, y_train)\n",
    "\n",
    "y_pred = lr.predict(x_test)\n",
    "\n",
    "# train data 정확도 R2(R-squared) 측정\n",
    "print('Train data\\'s Accuracy : ', format(lr.score(x_train, y_train)))\n",
    "# test data 정확도 R2(R-squared) 측정\n",
    "print('Test data\\'s Accuracy : ', format(lr.score(x_test,y_test)))\n",
    "# test data 평균제곱오차(MSE) 측정\n",
    "print('MSE :', mean_squared_error(y_test, y_pred, squared=False))\n",
    "# test data 평균절대값오차(MAE) 측정\n",
    "print('MAE :', mean_absolute_error(y_test, y_pred))"
   ]
  },
  {
   "cell_type": "code",
   "execution_count": 237,
   "metadata": {},
   "outputs": [],
   "source": [
    "#데이터프레임에 넣기\n",
    "test_r2 = lr.score(x_test,y_test)\n",
    "rmse = np.sqrt(mean_squared_error(y_pred, y_test, squared=False))\n",
    "mae = mean_absolute_error(y_test, y_pred)\n",
    "\n",
    "comp_dict['LinearRegression'] = test_r2\n",
    "comp_dict2.append(rmse)\n",
    "comp_dict3.append(mae)"
   ]
  },
  {
   "cell_type": "markdown",
   "metadata": {},
   "source": [
    "### Gradient Boost"
   ]
  },
  {
   "cell_type": "code",
   "execution_count": 247,
   "metadata": {},
   "outputs": [
    {
     "data": {
      "text/plain": [
       "{'learning_rate': 0.1,\n",
       " 'max_depth': 4,\n",
       " 'min_samples_leaf': 10,\n",
       " 'min_samples_split': 2,\n",
       " 'n_estimators': 100}"
      ]
     },
     "execution_count": 247,
     "metadata": {},
     "output_type": "execute_result"
    }
   ],
   "source": [
    "num_estimators = [100,500,1000]\n",
    "learn_rates = [0.1, 0.5, 1]\n",
    "max_depths = [1, 2, 3, 4]\n",
    "min_samples_leaf = [5,10,15]\n",
    "min_samples_split = [2,5,10]\n",
    "\n",
    "param_grid = {'n_estimators': num_estimators,\n",
    "            'learning_rate': learn_rates,\n",
    "             'max_depth': max_depths,\n",
    "             'min_samples_leaf': min_samples_leaf,\n",
    "             'min_samples_split': min_samples_split}\n",
    "\n",
    "grid_search = GridSearchCV(GradientBoostingRegressor(loss='huber'),\n",
    "                          param_grid, cv=3, return_train_score=True)\n",
    "grid_search.fit(x_train, y_train)\n",
    "\n",
    "grid_search.best_params_"
   ]
  },
  {
   "cell_type": "code",
   "execution_count": 238,
   "metadata": {},
   "outputs": [
    {
     "name": "stdout",
     "output_type": "stream",
     "text": [
      "Train data's Accuracy :  0.9743803678400638\n",
      "Test data's Accuracy :  0.9708167174576674\n",
      "MSE : 2900.673153057979\n",
      "MAE : 1733.974498703786\n"
     ]
    }
   ],
   "source": [
    "# GB 모델링\n",
    "gb = GradientBoostingRegressor(min_samples_leaf= 10, min_samples_split=2, learning_rate=0.1, max_depth=4, n_estimators=100)\n",
    "gb.fit(x_train,y_train)\n",
    "\n",
    "y_pred = gb.predict(x_test)\n",
    "\n",
    "# train data 정확도 R2(R-squared) 측정\n",
    "print('Train data\\'s Accuracy : ', format(gb.score(x_train,y_train)))\n",
    "# test data 정확도 R2(R-squared) 측정\n",
    "print('Test data\\'s Accuracy : ', format(gb.score(x_test,y_test)))\n",
    "# test data 평균제곱오차(MSE) 측정\n",
    "print('MSE :', mean_squared_error(y_test, y_pred, squared=False))\n",
    "# test data 평균절대값오차(MAE) 측정\n",
    "print('MAE :', mean_absolute_error(y_test, y_pred))"
   ]
  },
  {
   "cell_type": "code",
   "execution_count": 239,
   "metadata": {},
   "outputs": [],
   "source": [
    "#데이터프레임에 넣기\n",
    "test_r2 = gb.score(x_test,y_test)\n",
    "rmse = np.sqrt(mean_squared_error(y_pred, y_test, squared=False))\n",
    "mae = mean_absolute_error(y_test, y_pred)\n",
    "\n",
    "comp_dict['GradientBoost'] = test_r2\n",
    "comp_dict2.append(rmse)\n",
    "comp_dict3.append(mae)"
   ]
  },
  {
   "cell_type": "markdown",
   "metadata": {},
   "source": [
    "### light gradient boost regressor"
   ]
  },
  {
   "cell_type": "code",
   "execution_count": 240,
   "metadata": {},
   "outputs": [
    {
     "name": "stdout",
     "output_type": "stream",
     "text": [
      "Train data's Accuracy :  0.968880989027785\n",
      "Test data's Accuracy :  0.9626146179777466\n",
      "MSE : 3283.088855446102\n",
      "MAE : 1859.3253384857699\n"
     ]
    }
   ],
   "source": [
    "# LGB 모델링\n",
    "lgb = LGBMRegressor(max_depth=4, n_estimators=100, random_state=5)\n",
    "lgb.fit(x_train,y_train)\n",
    "\n",
    "y_pred = lgb.predict(x_test)\n",
    "\n",
    "# train data 정확도 R2(R-squared) 측정\n",
    "print('Train data\\'s Accuracy : ', format(lgb.score(x_train,y_train)))\n",
    "# test data 정확도 R2(R-squared) 측정\n",
    "print('Test data\\'s Accuracy : ', format(lgb.score(x_test,y_test)))\n",
    "# test data 평균제곱오차(MSE) 측정\n",
    "print('MSE :', mean_squared_error(y_test, y_pred, squared=False))\n",
    "# test data 평균절대값오차(MAE) 측정\n",
    "print('MAE :', mean_absolute_error(y_test, y_pred))"
   ]
  },
  {
   "cell_type": "code",
   "execution_count": 241,
   "metadata": {},
   "outputs": [],
   "source": [
    "#데이터프레임에 넣기\n",
    "test_r2 = lgb.score(x_test,y_test)\n",
    "rmse = np.sqrt(mean_squared_error(y_pred, y_test, squared=False))\n",
    "mae = mean_absolute_error(y_test, y_pred)\n",
    "\n",
    "comp_dict['LightGBM'] = test_r2\n",
    "comp_dict2.append(rmse)\n",
    "comp_dict3.append(mae)"
   ]
  },
  {
   "cell_type": "markdown",
   "metadata": {},
   "source": [
    "### cat boost regressor"
   ]
  },
  {
   "cell_type": "code",
   "execution_count": 242,
   "metadata": {},
   "outputs": [
    {
     "name": "stdout",
     "output_type": "stream",
     "text": [
      "[ 18278.55763584  15462.50684862   3271.64847816  21318.233221\n",
      "   6292.52880448   3020.05211027  21123.5148037   58163.1625935\n",
      "   9693.88934423  11939.18869871  12658.25144546  21313.28265127\n",
      "  19240.74765474  11581.30172377   1334.58796701   7651.88312673\n",
      "  20807.16688012   3991.77773943   3991.77773943  18044.97261522\n",
      "  35334.30472334   9141.54165003  18288.86119871   7292.276424\n",
      "  28947.50502457   4787.81113812  10661.85685614   6633.916439\n",
      "   9159.32664666   9032.79935032   6940.13158078  13336.72826443\n",
      "   6168.12861016   6062.72558085   4989.60513409  11773.82054638\n",
      "   3823.43144708   9260.71701517  10531.86170731   7398.2121904\n",
      "   8161.94014553  10103.18234934  30579.61695968  20759.60838064\n",
      "   3975.56376081  21281.16961486  89065.76457599   7036.88632007\n",
      "   6548.97427783  12082.35620556  17810.30170202  13303.10699264\n",
      "   9880.3105787    6548.97427783   6148.88238655  30706.07094511\n",
      "   4045.55839645   7558.20918128   1334.58796701   4658.3196011\n",
      "   5405.46037671   7292.276424     5723.75444602   4114.13182438\n",
      "   3278.28113813  10692.23731229  52559.04158196  25130.44952446\n",
      "  20252.22590115  11059.02709275   9938.54431902   5806.27658888\n",
      "   7123.57631839  37905.95756663  11562.12971078  20629.14850266\n",
      "   9158.02716099   6356.18115112  66806.83736264  12450.64677169\n",
      "  15176.96907392   1236.69538164  21060.48892162   9132.2933297\n",
      "  21629.92674986   7502.97180567  18395.70141959   3020.05211027\n",
      "  14733.3062593   20017.69111617  10778.11440734  13984.77390059\n",
      "   6168.12861016   8293.94037203  11930.94126113  11348.26994637\n",
      "  12390.77670088  21529.36414763  31871.85965493  11925.03607069\n",
      "   7105.40494273  37905.95756663   9370.80952827  40395.01821518\n",
      "   8861.49266396  42882.53144742   6925.19475947  11067.03254275\n",
      "   5405.46037671   8183.43633788   7105.40494273   7223.23287474\n",
      "  12715.47034919  20942.97342242  65215.68007415  57624.1757903\n",
      "   6316.24000417  13954.12687985  21246.00384417   5163.98097499\n",
      "   8544.8444853    7546.24730137   9914.88525797   4113.90165288\n",
      "  13924.17481911  36751.69150042  21950.55437215   9223.15241624\n",
      "   5011.00946015   2720.24556738  30123.64837926   7239.19045944\n",
      "   9108.55831814  29240.20860569  22560.78343775   6055.85964139\n",
      "   6589.95660981  27270.47330306   4489.61914097   3182.02875111\n",
      "  66806.83736264  36506.27756266 113408.49991117  11004.04325058\n",
      "  21082.68157864   3278.28113813   7827.83787876  18786.99964072\n",
      "   7616.24378229   7118.2588984   21222.72406991   7630.84157145\n",
      "   7513.29079734  55272.75930613   2406.83673686   7105.40494273\n",
      "   9693.88934423   9199.54542001  19897.27675115  42079.76105632\n",
      "  15590.9554695   30253.59205162   8609.82707819   8439.10815244\n",
      "   8580.31125351   6021.3124881   35236.57156378  24705.7420167\n",
      "   8999.6442127    8609.82707819  24743.27204576  10004.21239144\n",
      "  18044.97261522  34135.04181467  38595.05035805  18975.70958987\n",
      "   7389.53157339   4787.81113812   6713.79541698   9032.79935032\n",
      "  21501.53112272  25108.28675002  29240.20860569   5152.0201361\n",
      "   8171.70930554   7095.24474486   3821.56502124   9159.32664666\n",
      "  32026.19073056   7118.2588984   16549.79569024  21629.92674986\n",
      "   4767.45372461   5044.18747228   5102.02720787   9009.16331985\n",
      "  45166.67877537  32303.43614724   6277.26980876   2673.86506728\n",
      "   9945.20543278   6565.0546245   55864.64789372  26483.11609797\n",
      "  45166.67877537   6750.9806392   55864.64789372  11925.03607069\n",
      "  14746.52868448  10486.36361945   6939.12105998  13166.12404675\n",
      "  10315.11152789  10167.0724934    1236.69538164  11990.81373277\n",
      "  13500.68542602  12521.73223506   7444.83941761  29240.20860569\n",
      " 127466.76004114   9373.37564473  10636.88090913   6589.95660981\n",
      "  29632.48395929  27138.68114213 121150.82605612   4058.04569065\n",
      "  45452.54600304   8063.3007206   16133.20022986   7941.88710479\n",
      "   6117.54619972  18684.76387089  13303.10699264   4767.45372461\n",
      "   8874.52049759  20690.39810759   4169.83357297   7220.47191176\n",
      "   7182.16074613  10179.38305322  40608.25405791  22410.10672307\n",
      "   4058.04569065  10661.85685614  15362.15303749   9598.38059573\n",
      "  15020.90499201  14698.24192365   6277.26980876  57624.1757903\n",
      "  26573.58941296   7289.18535908   3975.56376081  10076.15427553\n",
      "  21870.624734    21501.53112272  14221.52166798   6756.44571386\n",
      "   9531.50384709  89065.76457599   6937.6411881    2673.86506728\n",
      "  11571.20759391   6117.54619972  20882.81447774  13823.69376545\n",
      "   4568.30001403  10008.95323073   7751.37710612   6277.26980876\n",
      "   1236.69538164   9914.65765746  14921.5834834   20432.49775304\n",
      "   6481.21393994  10483.12280054   4517.47319964   6633.916439\n",
      "  38595.05035805  19970.02319324  16332.4132811   26875.58916506\n",
      "  15369.22294566   7630.84157145  19173.07199405  18029.05122753\n",
      "  20248.63186604  29166.55948968   4404.57565299   4220.30567724\n",
      "  19751.16529552  21082.68157864  42882.53144742  11889.76314581\n",
      "  20807.16688012  22272.20333883  30251.99583573   9102.33218242\n",
      "  38974.32402075  15706.16884882  19524.69250337   8436.11857752\n",
      "  14956.3691741   10621.10275817   9595.22791747   8874.52049759\n",
      "   7783.01140301   8757.67782355  11179.78951549  19726.48638651\n",
      "  10076.81984889  26245.01280994  13845.18363896   8609.82707819\n",
      "   6117.54619972  45380.15453334   4526.50202242   6277.26980876\n",
      "  20629.14850266  15467.82830383  13500.68542602  16279.7910372\n",
      "  18975.70958987   3020.05211027   6462.22878207  28642.01584041\n",
      "  23126.95547412  10501.53340371   9684.85239506   8526.2222098\n",
      "  20260.31076802  18029.05122753  11561.57614231   4262.68219495\n",
      "   8957.3667052    3975.56376081  13926.16801586  19827.71346596\n",
      " 127466.76004114  26489.37861742  13843.80370228  10299.99900678\n",
      "   6388.25207735   5723.75444602   9987.51164379   5806.27658888\n",
      "  23488.98260981   7630.84157145  81324.19232836  21181.83310637\n",
      "  21330.12199779   8704.31365323  26740.16034662  34895.18472752\n",
      "   6055.85964139   7292.276424    41110.13810434  13381.40401096\n",
      "   9870.09293929  80177.64802893   7767.17339473  12292.63390584\n",
      "   8526.2222098    4058.04569065  11684.26165695   4820.15176844\n",
      "  13482.23402971  25869.02886353  12125.03519056   6055.85964139\n",
      "   5126.9064398    6168.12861016  81324.19232836   7751.37710612\n",
      "  10621.10275817  13177.99616242  16133.20022986   8279.25826458\n",
      "  17391.14916137   1334.58796701   7385.74445781  38595.05035805\n",
      "   7292.276424     2720.24556738  17767.57495642  30579.61695968\n",
      "   7558.20918128  13984.77390059   2850.54546118  40443.21411127\n",
      "  21332.89505067  24035.64365747   5044.18747228   7575.99265364\n",
      "  20460.77056346  23679.56377564   8923.99877821  21529.36414763\n",
      "  10219.54233266  18684.76387089  14313.28191034  20013.00440706\n",
      "  28642.01584041   7182.16074613   5073.09512727  11939.30151011\n",
      "  24618.67539874  45166.67877537  22053.49242497   9987.51164379\n",
      "   6589.95660981  10241.29462523   7630.84157145  22691.16720159\n",
      "  13500.68542602  12187.04155688  32027.67730124  10416.62847662\n",
      "  11765.95348585   6316.24000417  45166.67877537  21950.55437215\n",
      "   5011.00946015   5753.63417006  10004.21239144  20033.17581967\n",
      "   7289.18535908   4553.67517531   1236.69538164  21272.99445167]\n",
      "Train data's Accuracy :  0.9814302275165423\n",
      "Test data's Accuracy :  0.9754057453238149\n",
      "MSE : 2662.8613760822977\n",
      "MAE : 1645.7571999180434\n"
     ]
    }
   ],
   "source": [
    "# CBR 모델링\n",
    "cbr = CatBoostRegressor(verbose=0, random_state=31)\n",
    "cbr.fit(x_train,y_train)\n",
    "\n",
    "y_pred = cbr.predict(x_test)\n",
    "\n",
    "print(y_pred)\n",
    "\n",
    "# train data 정확도 R2(R-squared) 측정\n",
    "print('Train data\\'s Accuracy : ', format(cbr.score(x_train,y_train)))\n",
    "# test data 정확도 R2(R-squared) 측정\n",
    "print('Test data\\'s Accuracy : ', format(cbr.score(x_test,y_test)))\n",
    "# test data 평균제곱오차(MSE) 측정\n",
    "print('MSE :', mean_squared_error(y_test, y_pred, squared=False))\n",
    "# test data 평균절대값오차(MAE) 측정\n",
    "print('MAE :', mean_absolute_error(y_test, y_pred))"
   ]
  },
  {
   "cell_type": "code",
   "execution_count": 243,
   "metadata": {},
   "outputs": [],
   "source": [
    "#데이터프레임에 넣기\n",
    "test_r2 = cbr.score(x_test,y_test)\n",
    "rmse = np.sqrt(mean_squared_error(y_pred, y_test, squared=False))\n",
    "mae = mean_absolute_error(y_test, y_pred)\n",
    "\n",
    "comp_dict['CatBoost'] = test_r2\n",
    "comp_dict2.append(rmse)\n",
    "comp_dict3.append(mae)"
   ]
  },
  {
   "cell_type": "markdown",
   "metadata": {},
   "source": [
    "### 엘라스틱넷(L2/L1 규제)"
   ]
  },
  {
   "cell_type": "code",
   "execution_count": 112,
   "metadata": {},
   "outputs": [
    {
     "name": "stdout",
     "output_type": "stream",
     "text": [
      "Train MSE: 11744727.8751\n",
      "Train RMSE: 3427.0582\n",
      "Test MSE: 11273771.1177\n",
      "Test RMSE: 3357.6437\n",
      "ElasticNet Regression r2-score: 0.96367\n",
      "ElasticNet Regression RMSE: 51.60\n"
     ]
    }
   ],
   "source": [
    "# ElasticNet(L2/L1 규제) p.121\n",
    "from sklearn.linear_model import ElasticNet\n",
    "\n",
    "pf=PolynomialFeatures(degree=2)\n",
    "x_train_poly=pf.fit_transform(x_train)\n",
    "x_test_poly=pf.fit_transform(x_test)\n",
    "\n",
    "ela=ElasticNet(alpha=0.01, l1_ratio=0.7)\n",
    "ela.fit(x_train_poly, y_train)\n",
    "\n",
    "y_train_pred=ela.predict(x_train_poly)\n",
    "train_mse=mean_squared_error(y_train, y_train_pred)\n",
    "train_rmse=np.sqrt(train_mse)\n",
    "print('Train MSE: %.4f' % train_mse)\n",
    "print('Train RMSE: %.4f' % train_rmse)\n",
    "y_test_pred=ela.predict(x_test_poly)\n",
    "test_mse=mean_squared_error(y_test, y_test_pred)\n",
    "test_rmse=np.sqrt(test_mse)\n",
    "print('Test MSE: %.4f' %test_mse)\n",
    "print('Test RMSE: %.4f' % test_rmse)\n",
    "\n",
    "r2 = metrics.r2_score(y_test_pred, y_test)\n",
    "RMSE=round(np.sqrt(mean_squared_error(y_pred, y_test, squared=False)), 2)\n",
    "\n",
    "comp_dict['ElasticNet Regression'] = r2\n",
    "print(f'ElasticNet Regression r2-score: {r2:0.5f}')\n",
    "print(f'ElasticNet Regression RMSE: {RMSE:0.2f}')"
   ]
  },
  {
   "cell_type": "markdown",
   "metadata": {},
   "source": [
    "### method 비교"
   ]
  },
  {
   "cell_type": "code",
   "execution_count": 244,
   "metadata": {},
   "outputs": [],
   "source": [
    "final_df = pd.DataFrame(comp_dict.items(), columns=['Estimator', 'R2-score'])\n",
    "final_df['RMSE'] = comp_dict2\n",
    "final_df['MAE'] = comp_dict3"
   ]
  },
  {
   "cell_type": "code",
   "execution_count": 245,
   "metadata": {},
   "outputs": [
    {
     "data": {
      "text/html": [
       "<div>\n",
       "<style scoped>\n",
       "    .dataframe tbody tr th:only-of-type {\n",
       "        vertical-align: middle;\n",
       "    }\n",
       "\n",
       "    .dataframe tbody tr th {\n",
       "        vertical-align: top;\n",
       "    }\n",
       "\n",
       "    .dataframe thead th {\n",
       "        text-align: right;\n",
       "    }\n",
       "</style>\n",
       "<table border=\"1\" class=\"dataframe\">\n",
       "  <thead>\n",
       "    <tr style=\"text-align: right;\">\n",
       "      <th></th>\n",
       "      <th>Estimator</th>\n",
       "      <th>R2-score</th>\n",
       "      <th>RMSE</th>\n",
       "      <th>MAE</th>\n",
       "    </tr>\n",
       "  </thead>\n",
       "  <tbody>\n",
       "    <tr>\n",
       "      <th>0</th>\n",
       "      <td>DecisionTree</td>\n",
       "      <td>0.949206</td>\n",
       "      <td>61.861265</td>\n",
       "      <td>2218.365741</td>\n",
       "    </tr>\n",
       "    <tr>\n",
       "      <th>1</th>\n",
       "      <td>RandomForest</td>\n",
       "      <td>0.968129</td>\n",
       "      <td>55.057295</td>\n",
       "      <td>1830.414908</td>\n",
       "    </tr>\n",
       "    <tr>\n",
       "      <th>2</th>\n",
       "      <td>LinearRegression</td>\n",
       "      <td>0.950910</td>\n",
       "      <td>61.335860</td>\n",
       "      <td>2024.956181</td>\n",
       "    </tr>\n",
       "    <tr>\n",
       "      <th>3</th>\n",
       "      <td>GradientBoost</td>\n",
       "      <td>0.970817</td>\n",
       "      <td>53.857898</td>\n",
       "      <td>1733.974499</td>\n",
       "    </tr>\n",
       "    <tr>\n",
       "      <th>4</th>\n",
       "      <td>LightGBM</td>\n",
       "      <td>0.962615</td>\n",
       "      <td>57.298245</td>\n",
       "      <td>1859.325338</td>\n",
       "    </tr>\n",
       "    <tr>\n",
       "      <th>5</th>\n",
       "      <td>CatBoost</td>\n",
       "      <td>0.975406</td>\n",
       "      <td>51.602920</td>\n",
       "      <td>1645.757200</td>\n",
       "    </tr>\n",
       "  </tbody>\n",
       "</table>\n",
       "</div>"
      ],
      "text/plain": [
       "          Estimator  R2-score       RMSE          MAE\n",
       "0      DecisionTree  0.949206  61.861265  2218.365741\n",
       "1      RandomForest  0.968129  55.057295  1830.414908\n",
       "2  LinearRegression  0.950910  61.335860  2024.956181\n",
       "3     GradientBoost  0.970817  53.857898  1733.974499\n",
       "4          LightGBM  0.962615  57.298245  1859.325338\n",
       "5          CatBoost  0.975406  51.602920  1645.757200"
      ]
     },
     "execution_count": 245,
     "metadata": {},
     "output_type": "execute_result"
    }
   ],
   "source": [
    "final_df"
   ]
  },
  {
   "cell_type": "code",
   "execution_count": 246,
   "metadata": {},
   "outputs": [
    {
     "data": {
      "text/html": [
       "<style type=\"text/css\">\n",
       "#T_30f4b_row0_col1, #T_30f4b_row5_col2, #T_30f4b_row5_col3 {\n",
       "  background-color: #023858;\n",
       "  color: #f1f1f1;\n",
       "}\n",
       "#T_30f4b_row0_col2, #T_30f4b_row0_col3, #T_30f4b_row5_col1 {\n",
       "  background-color: #fff7fb;\n",
       "  color: #000000;\n",
       "}\n",
       "#T_30f4b_row1_col1 {\n",
       "  background-color: #04629a;\n",
       "  color: #f1f1f1;\n",
       "}\n",
       "#T_30f4b_row1_col2 {\n",
       "  background-color: #d7d6e9;\n",
       "  color: #000000;\n",
       "}\n",
       "#T_30f4b_row1_col3 {\n",
       "  background-color: #e6e2ef;\n",
       "  color: #000000;\n",
       "}\n",
       "#T_30f4b_row2_col1 {\n",
       "  background-color: #1077b4;\n",
       "  color: #f1f1f1;\n",
       "}\n",
       "#T_30f4b_row2_col2 {\n",
       "  background-color: #b3c3de;\n",
       "  color: #000000;\n",
       "}\n",
       "#T_30f4b_row2_col3 {\n",
       "  background-color: #b8c6e0;\n",
       "  color: #000000;\n",
       "}\n",
       "#T_30f4b_row3_col1 {\n",
       "  background-color: #6da6cd;\n",
       "  color: #f1f1f1;\n",
       "}\n",
       "#T_30f4b_row3_col2 {\n",
       "  background-color: #589ec8;\n",
       "  color: #f1f1f1;\n",
       "}\n",
       "#T_30f4b_row3_col3 {\n",
       "  background-color: #a7bddb;\n",
       "  color: #000000;\n",
       "}\n",
       "#T_30f4b_row4_col1 {\n",
       "  background-color: #f5eff6;\n",
       "  color: #000000;\n",
       "}\n",
       "#T_30f4b_row4_col2 {\n",
       "  background-color: #03466e;\n",
       "  color: #f1f1f1;\n",
       "}\n",
       "#T_30f4b_row4_col3 {\n",
       "  background-color: #2786bb;\n",
       "  color: #f1f1f1;\n",
       "}\n",
       "</style>\n",
       "<table id=\"T_30f4b_\">\n",
       "  <thead>\n",
       "    <tr>\n",
       "      <th class=\"blank level0\" >&nbsp;</th>\n",
       "      <th class=\"col_heading level0 col0\" >Estimator</th>\n",
       "      <th class=\"col_heading level0 col1\" >R2-score</th>\n",
       "      <th class=\"col_heading level0 col2\" >RMSE</th>\n",
       "      <th class=\"col_heading level0 col3\" >MAE</th>\n",
       "    </tr>\n",
       "  </thead>\n",
       "  <tbody>\n",
       "    <tr>\n",
       "      <th id=\"T_30f4b_level0_row0\" class=\"row_heading level0 row0\" >5</th>\n",
       "      <td id=\"T_30f4b_row0_col0\" class=\"data row0 col0\" >CatBoost</td>\n",
       "      <td id=\"T_30f4b_row0_col1\" class=\"data row0 col1\" >0.975406</td>\n",
       "      <td id=\"T_30f4b_row0_col2\" class=\"data row0 col2\" >51.602920</td>\n",
       "      <td id=\"T_30f4b_row0_col3\" class=\"data row0 col3\" >1645.757200</td>\n",
       "    </tr>\n",
       "    <tr>\n",
       "      <th id=\"T_30f4b_level0_row1\" class=\"row_heading level0 row1\" >3</th>\n",
       "      <td id=\"T_30f4b_row1_col0\" class=\"data row1 col0\" >GradientBoost</td>\n",
       "      <td id=\"T_30f4b_row1_col1\" class=\"data row1 col1\" >0.970817</td>\n",
       "      <td id=\"T_30f4b_row1_col2\" class=\"data row1 col2\" >53.857898</td>\n",
       "      <td id=\"T_30f4b_row1_col3\" class=\"data row1 col3\" >1733.974499</td>\n",
       "    </tr>\n",
       "    <tr>\n",
       "      <th id=\"T_30f4b_level0_row2\" class=\"row_heading level0 row2\" >1</th>\n",
       "      <td id=\"T_30f4b_row2_col0\" class=\"data row2 col0\" >RandomForest</td>\n",
       "      <td id=\"T_30f4b_row2_col1\" class=\"data row2 col1\" >0.968129</td>\n",
       "      <td id=\"T_30f4b_row2_col2\" class=\"data row2 col2\" >55.057295</td>\n",
       "      <td id=\"T_30f4b_row2_col3\" class=\"data row2 col3\" >1830.414908</td>\n",
       "    </tr>\n",
       "    <tr>\n",
       "      <th id=\"T_30f4b_level0_row3\" class=\"row_heading level0 row3\" >4</th>\n",
       "      <td id=\"T_30f4b_row3_col0\" class=\"data row3 col0\" >LightGBM</td>\n",
       "      <td id=\"T_30f4b_row3_col1\" class=\"data row3 col1\" >0.962615</td>\n",
       "      <td id=\"T_30f4b_row3_col2\" class=\"data row3 col2\" >57.298245</td>\n",
       "      <td id=\"T_30f4b_row3_col3\" class=\"data row3 col3\" >1859.325338</td>\n",
       "    </tr>\n",
       "    <tr>\n",
       "      <th id=\"T_30f4b_level0_row4\" class=\"row_heading level0 row4\" >2</th>\n",
       "      <td id=\"T_30f4b_row4_col0\" class=\"data row4 col0\" >LinearRegression</td>\n",
       "      <td id=\"T_30f4b_row4_col1\" class=\"data row4 col1\" >0.950910</td>\n",
       "      <td id=\"T_30f4b_row4_col2\" class=\"data row4 col2\" >61.335860</td>\n",
       "      <td id=\"T_30f4b_row4_col3\" class=\"data row4 col3\" >2024.956181</td>\n",
       "    </tr>\n",
       "    <tr>\n",
       "      <th id=\"T_30f4b_level0_row5\" class=\"row_heading level0 row5\" >0</th>\n",
       "      <td id=\"T_30f4b_row5_col0\" class=\"data row5 col0\" >DecisionTree</td>\n",
       "      <td id=\"T_30f4b_row5_col1\" class=\"data row5 col1\" >0.949206</td>\n",
       "      <td id=\"T_30f4b_row5_col2\" class=\"data row5 col2\" >61.861265</td>\n",
       "      <td id=\"T_30f4b_row5_col3\" class=\"data row5 col3\" >2218.365741</td>\n",
       "    </tr>\n",
       "  </tbody>\n",
       "</table>\n"
      ],
      "text/plain": [
       "<pandas.io.formats.style.Styler at 0x1ea811b4730>"
      ]
     },
     "execution_count": 246,
     "metadata": {},
     "output_type": "execute_result"
    }
   ],
   "source": [
    "final_df.sort_values(by='R2-score', ascending=False).style.background_gradient()"
   ]
  },
  {
   "cell_type": "markdown",
   "metadata": {},
   "source": [
    "### 젤 성능좋은 catboost에 test data를 넣어보자"
   ]
  },
  {
   "cell_type": "code",
   "execution_count": 169,
   "metadata": {},
   "outputs": [
    {
     "data": {
      "text/html": [
       "<div>\n",
       "<style scoped>\n",
       "    .dataframe tbody tr th:only-of-type {\n",
       "        vertical-align: middle;\n",
       "    }\n",
       "\n",
       "    .dataframe tbody tr th {\n",
       "        vertical-align: top;\n",
       "    }\n",
       "\n",
       "    .dataframe thead th {\n",
       "        text-align: right;\n",
       "    }\n",
       "</style>\n",
       "<table border=\"1\" class=\"dataframe\">\n",
       "  <thead>\n",
       "    <tr style=\"text-align: right;\">\n",
       "      <th></th>\n",
       "      <th>station_id</th>\n",
       "      <th>station_name</th>\n",
       "      <th>subway</th>\n",
       "      <th>complex</th>\n",
       "      <th>market</th>\n",
       "      <th>before</th>\n",
       "    </tr>\n",
       "  </thead>\n",
       "  <tbody>\n",
       "    <tr>\n",
       "      <th>0</th>\n",
       "      <td>7001000100</td>\n",
       "      <td>대명시장앞</td>\n",
       "      <td>0.0</td>\n",
       "      <td>0</td>\n",
       "      <td>3</td>\n",
       "      <td>26874</td>\n",
       "    </tr>\n",
       "    <tr>\n",
       "      <th>1</th>\n",
       "      <td>7001000100</td>\n",
       "      <td>대명시장앞</td>\n",
       "      <td>0.0</td>\n",
       "      <td>0</td>\n",
       "      <td>3</td>\n",
       "      <td>4985</td>\n",
       "    </tr>\n",
       "    <tr>\n",
       "      <th>2</th>\n",
       "      <td>7001000200</td>\n",
       "      <td>대명시장건너</td>\n",
       "      <td>0.0</td>\n",
       "      <td>0</td>\n",
       "      <td>3</td>\n",
       "      <td>17379</td>\n",
       "    </tr>\n",
       "    <tr>\n",
       "      <th>3</th>\n",
       "      <td>7001000200</td>\n",
       "      <td>대명시장건너</td>\n",
       "      <td>0.0</td>\n",
       "      <td>0</td>\n",
       "      <td>3</td>\n",
       "      <td>3360</td>\n",
       "    </tr>\n",
       "    <tr>\n",
       "      <th>4</th>\n",
       "      <td>7001000300</td>\n",
       "      <td>계명대학교대명캠퍼스앞</td>\n",
       "      <td>0.0</td>\n",
       "      <td>0</td>\n",
       "      <td>4</td>\n",
       "      <td>11964</td>\n",
       "    </tr>\n",
       "  </tbody>\n",
       "</table>\n",
       "</div>"
      ],
      "text/plain": [
       "   station_id station_name  subway  complex  market  before\n",
       "0  7001000100        대명시장앞     0.0        0       3   26874\n",
       "1  7001000100        대명시장앞     0.0        0       3    4985\n",
       "2  7001000200       대명시장건너     0.0        0       3   17379\n",
       "3  7001000200       대명시장건너     0.0        0       3    3360\n",
       "4  7001000300  계명대학교대명캠퍼스앞     0.0        0       4   11964"
      ]
     },
     "execution_count": 169,
     "metadata": {},
     "output_type": "execute_result"
    }
   ],
   "source": [
    "data2 = pd.read_csv(\"./대구최종.csv\", encoding='cp949')\n",
    "data2.drop(['Unnamed: 0', 'after'], axis=1, inplace=True)\n",
    "data2.head()"
   ]
  },
  {
   "cell_type": "code",
   "execution_count": 226,
   "metadata": {},
   "outputs": [
    {
     "name": "stdout",
     "output_type": "stream",
     "text": [
      "[[-0.87108874  0.          1.29470443  1.06029571]\n",
      " [-0.87108874  0.          1.29470443 -0.66115456]\n",
      " [ 0.51495301  0.          1.29470443 -0.0068799 ]\n",
      " [ 0.51495301  0.          1.29470443  1.4581143 ]\n",
      " [-0.87108874  0.          1.29470443 -0.27930883]\n",
      " [-0.87108874  0.          1.29470443 -0.8919539 ]\n",
      " [ 0.51495301  0.          1.29470443  0.16871014]\n",
      " [ 0.51495301  0.          1.29470443 -0.0123897 ]]\n"
     ]
    }
   ],
   "source": [
    "#'상인현대맨션앞''대곡주공8단지앞'\n",
    "k = data2[data2['station_name'].isin(['상인현대맨션앞', '대곡주공8단지앞'])]\n",
    "kk = k.drop(['station_id', 'station_name'], axis=1)\n",
    "\n",
    "#데이터프레임을 배열 형태로 바꾸기\n",
    "kkk = []\n",
    "for i in range(kk.shape[0]) :\n",
    "    a = kk.iloc[i].tolist()\n",
    "    kkk.append(a)\n",
    "\n",
    "#스케일 조정\n",
    "kkk = scaler.transform(kkk)\n",
    "\n",
    "print(kkk)\n"
   ]
  },
  {
   "cell_type": "code",
   "execution_count": 227,
   "metadata": {},
   "outputs": [
    {
     "data": {
      "text/html": [
       "<div>\n",
       "<style scoped>\n",
       "    .dataframe tbody tr th:only-of-type {\n",
       "        vertical-align: middle;\n",
       "    }\n",
       "\n",
       "    .dataframe tbody tr th {\n",
       "        vertical-align: top;\n",
       "    }\n",
       "\n",
       "    .dataframe thead th {\n",
       "        text-align: right;\n",
       "    }\n",
       "</style>\n",
       "<table border=\"1\" class=\"dataframe\">\n",
       "  <thead>\n",
       "    <tr style=\"text-align: right;\">\n",
       "      <th></th>\n",
       "      <th>0</th>\n",
       "    </tr>\n",
       "  </thead>\n",
       "  <tbody>\n",
       "    <tr>\n",
       "      <th>0</th>\n",
       "      <td>33584.636383</td>\n",
       "    </tr>\n",
       "    <tr>\n",
       "      <th>1</th>\n",
       "      <td>5539.329817</td>\n",
       "    </tr>\n",
       "    <tr>\n",
       "      <th>2</th>\n",
       "      <td>17028.702759</td>\n",
       "    </tr>\n",
       "    <tr>\n",
       "      <th>3</th>\n",
       "      <td>44872.615739</td>\n",
       "    </tr>\n",
       "    <tr>\n",
       "      <th>4</th>\n",
       "      <td>11270.501832</td>\n",
       "    </tr>\n",
       "    <tr>\n",
       "      <th>5</th>\n",
       "      <td>2858.248399</td>\n",
       "    </tr>\n",
       "    <tr>\n",
       "      <th>6</th>\n",
       "      <td>19562.276918</td>\n",
       "    </tr>\n",
       "    <tr>\n",
       "      <th>7</th>\n",
       "      <td>16989.939073</td>\n",
       "    </tr>\n",
       "  </tbody>\n",
       "</table>\n",
       "</div>"
      ],
      "text/plain": [
       "              0\n",
       "0  33584.636383\n",
       "1   5539.329817\n",
       "2  17028.702759\n",
       "3  44872.615739\n",
       "4  11270.501832\n",
       "5   2858.248399\n",
       "6  19562.276918\n",
       "7  16989.939073"
      ]
     },
     "execution_count": 227,
     "metadata": {},
     "output_type": "execute_result"
    }
   ],
   "source": [
    "# CBR 모델링\n",
    "cbr = CatBoostRegressor(verbose=0, random_state=31)\n",
    "cbr.fit(x_train,y_train)\n",
    "\n",
    "predict = cbr.predict(kkk)\n",
    "\n",
    "predict = pd.DataFrame(predict)\n",
    "predict"
   ]
  },
  {
   "cell_type": "code",
   "execution_count": 228,
   "metadata": {},
   "outputs": [
    {
     "data": {
      "text/html": [
       "<div>\n",
       "<style scoped>\n",
       "    .dataframe tbody tr th:only-of-type {\n",
       "        vertical-align: middle;\n",
       "    }\n",
       "\n",
       "    .dataframe tbody tr th {\n",
       "        vertical-align: top;\n",
       "    }\n",
       "\n",
       "    .dataframe thead th {\n",
       "        text-align: right;\n",
       "    }\n",
       "</style>\n",
       "<table border=\"1\" class=\"dataframe\">\n",
       "  <thead>\n",
       "    <tr style=\"text-align: right;\">\n",
       "      <th></th>\n",
       "      <th>station_id</th>\n",
       "      <th>station_name</th>\n",
       "      <th>subway</th>\n",
       "      <th>complex</th>\n",
       "      <th>market</th>\n",
       "      <th>before</th>\n",
       "      <th>after</th>\n",
       "    </tr>\n",
       "  </thead>\n",
       "  <tbody>\n",
       "    <tr>\n",
       "      <th>0</th>\n",
       "      <td>7041020700</td>\n",
       "      <td>대곡주공8단지앞</td>\n",
       "      <td>0.0</td>\n",
       "      <td>0</td>\n",
       "      <td>2</td>\n",
       "      <td>36143</td>\n",
       "      <td>33584</td>\n",
       "    </tr>\n",
       "    <tr>\n",
       "      <th>1</th>\n",
       "      <td>7041020700</td>\n",
       "      <td>대곡주공8단지앞</td>\n",
       "      <td>0.0</td>\n",
       "      <td>0</td>\n",
       "      <td>2</td>\n",
       "      <td>5212</td>\n",
       "      <td>5539</td>\n",
       "    </tr>\n",
       "    <tr>\n",
       "      <th>2</th>\n",
       "      <td>7041053500</td>\n",
       "      <td>상인현대맨션앞</td>\n",
       "      <td>1.0</td>\n",
       "      <td>0</td>\n",
       "      <td>2</td>\n",
       "      <td>16968</td>\n",
       "      <td>17028</td>\n",
       "    </tr>\n",
       "    <tr>\n",
       "      <th>3</th>\n",
       "      <td>7041053500</td>\n",
       "      <td>상인현대맨션앞</td>\n",
       "      <td>1.0</td>\n",
       "      <td>0</td>\n",
       "      <td>2</td>\n",
       "      <td>43291</td>\n",
       "      <td>44872</td>\n",
       "    </tr>\n",
       "    <tr>\n",
       "      <th>4</th>\n",
       "      <td>7041020700</td>\n",
       "      <td>대곡주공8단지앞</td>\n",
       "      <td>0.0</td>\n",
       "      <td>0</td>\n",
       "      <td>2</td>\n",
       "      <td>12073</td>\n",
       "      <td>11270</td>\n",
       "    </tr>\n",
       "    <tr>\n",
       "      <th>5</th>\n",
       "      <td>7041020700</td>\n",
       "      <td>대곡주공8단지앞</td>\n",
       "      <td>0.0</td>\n",
       "      <td>0</td>\n",
       "      <td>2</td>\n",
       "      <td>1065</td>\n",
       "      <td>2858</td>\n",
       "    </tr>\n",
       "    <tr>\n",
       "      <th>6</th>\n",
       "      <td>7041053500</td>\n",
       "      <td>상인현대맨션앞</td>\n",
       "      <td>1.0</td>\n",
       "      <td>0</td>\n",
       "      <td>2</td>\n",
       "      <td>20123</td>\n",
       "      <td>19562</td>\n",
       "    </tr>\n",
       "    <tr>\n",
       "      <th>7</th>\n",
       "      <td>7041053500</td>\n",
       "      <td>상인현대맨션앞</td>\n",
       "      <td>1.0</td>\n",
       "      <td>0</td>\n",
       "      <td>2</td>\n",
       "      <td>16869</td>\n",
       "      <td>16989</td>\n",
       "    </tr>\n",
       "  </tbody>\n",
       "</table>\n",
       "</div>"
      ],
      "text/plain": [
       "   station_id station_name  subway  complex  market  before  after\n",
       "0  7041020700     대곡주공8단지앞     0.0        0       2   36143  33584\n",
       "1  7041020700     대곡주공8단지앞     0.0        0       2    5212   5539\n",
       "2  7041053500      상인현대맨션앞     1.0        0       2   16968  17028\n",
       "3  7041053500      상인현대맨션앞     1.0        0       2   43291  44872\n",
       "4  7041020700     대곡주공8단지앞     0.0        0       2   12073  11270\n",
       "5  7041020700     대곡주공8단지앞     0.0        0       2    1065   2858\n",
       "6  7041053500      상인현대맨션앞     1.0        0       2   20123  19562\n",
       "7  7041053500      상인현대맨션앞     1.0        0       2   16869  16989"
      ]
     },
     "execution_count": 228,
     "metadata": {},
     "output_type": "execute_result"
    }
   ],
   "source": [
    "k.index=[0,1,2,3,4,5,6,7]\n",
    "daegu_pred = pd.concat([k, predict], axis=1, ignore_index=True)\n",
    "daegu_pred.columns = ['station_id', 'station_name', 'subway', 'complex', 'market', 'before', 'after']\n",
    "daegu_pred = daegu_pred.astype({'after' : int})\n",
    "daegu_pred"
   ]
  },
  {
   "cell_type": "code",
   "execution_count": 230,
   "metadata": {},
   "outputs": [
    {
     "data": {
      "text/html": [
       "<div>\n",
       "<style scoped>\n",
       "    .dataframe tbody tr th:only-of-type {\n",
       "        vertical-align: middle;\n",
       "    }\n",
       "\n",
       "    .dataframe tbody tr th {\n",
       "        vertical-align: top;\n",
       "    }\n",
       "\n",
       "    .dataframe thead th {\n",
       "        text-align: right;\n",
       "    }\n",
       "</style>\n",
       "<table border=\"1\" class=\"dataframe\">\n",
       "  <thead>\n",
       "    <tr style=\"text-align: right;\">\n",
       "      <th></th>\n",
       "      <th>station_id</th>\n",
       "      <th>station_name</th>\n",
       "      <th>subway</th>\n",
       "      <th>complex</th>\n",
       "      <th>market</th>\n",
       "      <th>before</th>\n",
       "      <th>after</th>\n",
       "      <th>change</th>\n",
       "    </tr>\n",
       "  </thead>\n",
       "  <tbody>\n",
       "    <tr>\n",
       "      <th>0</th>\n",
       "      <td>7041020700</td>\n",
       "      <td>대곡주공8단지앞</td>\n",
       "      <td>0.0</td>\n",
       "      <td>0</td>\n",
       "      <td>2</td>\n",
       "      <td>36143</td>\n",
       "      <td>33584</td>\n",
       "      <td>92.92</td>\n",
       "    </tr>\n",
       "    <tr>\n",
       "      <th>1</th>\n",
       "      <td>7041020700</td>\n",
       "      <td>대곡주공8단지앞</td>\n",
       "      <td>0.0</td>\n",
       "      <td>0</td>\n",
       "      <td>2</td>\n",
       "      <td>5212</td>\n",
       "      <td>5539</td>\n",
       "      <td>106.27</td>\n",
       "    </tr>\n",
       "    <tr>\n",
       "      <th>2</th>\n",
       "      <td>7041053500</td>\n",
       "      <td>상인현대맨션앞</td>\n",
       "      <td>1.0</td>\n",
       "      <td>0</td>\n",
       "      <td>2</td>\n",
       "      <td>16968</td>\n",
       "      <td>17028</td>\n",
       "      <td>100.35</td>\n",
       "    </tr>\n",
       "    <tr>\n",
       "      <th>3</th>\n",
       "      <td>7041053500</td>\n",
       "      <td>상인현대맨션앞</td>\n",
       "      <td>1.0</td>\n",
       "      <td>0</td>\n",
       "      <td>2</td>\n",
       "      <td>43291</td>\n",
       "      <td>44872</td>\n",
       "      <td>103.65</td>\n",
       "    </tr>\n",
       "    <tr>\n",
       "      <th>4</th>\n",
       "      <td>7041020700</td>\n",
       "      <td>대곡주공8단지앞</td>\n",
       "      <td>0.0</td>\n",
       "      <td>0</td>\n",
       "      <td>2</td>\n",
       "      <td>12073</td>\n",
       "      <td>11270</td>\n",
       "      <td>93.35</td>\n",
       "    </tr>\n",
       "    <tr>\n",
       "      <th>5</th>\n",
       "      <td>7041020700</td>\n",
       "      <td>대곡주공8단지앞</td>\n",
       "      <td>0.0</td>\n",
       "      <td>0</td>\n",
       "      <td>2</td>\n",
       "      <td>1065</td>\n",
       "      <td>2858</td>\n",
       "      <td>268.36</td>\n",
       "    </tr>\n",
       "    <tr>\n",
       "      <th>6</th>\n",
       "      <td>7041053500</td>\n",
       "      <td>상인현대맨션앞</td>\n",
       "      <td>1.0</td>\n",
       "      <td>0</td>\n",
       "      <td>2</td>\n",
       "      <td>20123</td>\n",
       "      <td>19562</td>\n",
       "      <td>97.21</td>\n",
       "    </tr>\n",
       "    <tr>\n",
       "      <th>7</th>\n",
       "      <td>7041053500</td>\n",
       "      <td>상인현대맨션앞</td>\n",
       "      <td>1.0</td>\n",
       "      <td>0</td>\n",
       "      <td>2</td>\n",
       "      <td>16869</td>\n",
       "      <td>16989</td>\n",
       "      <td>100.71</td>\n",
       "    </tr>\n",
       "  </tbody>\n",
       "</table>\n",
       "</div>"
      ],
      "text/plain": [
       "   station_id station_name  subway  complex  market  before  after  change\n",
       "0  7041020700     대곡주공8단지앞     0.0        0       2   36143  33584   92.92\n",
       "1  7041020700     대곡주공8단지앞     0.0        0       2    5212   5539  106.27\n",
       "2  7041053500      상인현대맨션앞     1.0        0       2   16968  17028  100.35\n",
       "3  7041053500      상인현대맨션앞     1.0        0       2   43291  44872  103.65\n",
       "4  7041020700     대곡주공8단지앞     0.0        0       2   12073  11270   93.35\n",
       "5  7041020700     대곡주공8단지앞     0.0        0       2    1065   2858  268.36\n",
       "6  7041053500      상인현대맨션앞     1.0        0       2   20123  19562   97.21\n",
       "7  7041053500      상인현대맨션앞     1.0        0       2   16869  16989  100.71"
      ]
     },
     "execution_count": 230,
     "metadata": {},
     "output_type": "execute_result"
    }
   ],
   "source": [
    "pred_final = daegu_pred\n",
    "pred_final['change'] = round(pred_final.after / pred_final.before *100, 2)\n",
    "pred_final"
   ]
  },
  {
   "cell_type": "code",
   "execution_count": null,
   "metadata": {},
   "outputs": [],
   "source": []
  }
 ],
 "metadata": {
  "interpreter": {
   "hash": "8fac594bfae6525c0c41b4041d2d72effa188cc8ead05f81b1fab2bb098927fb"
  },
  "kernelspec": {
   "display_name": "Python 3.9.7 ('base')",
   "language": "python",
   "name": "python3"
  },
  "language_info": {
   "codemirror_mode": {
    "name": "ipython",
    "version": 3
   },
   "file_extension": ".py",
   "mimetype": "text/x-python",
   "name": "python",
   "nbconvert_exporter": "python",
   "pygments_lexer": "ipython3",
   "version": "3.9.7"
  },
  "orig_nbformat": 4
 },
 "nbformat": 4,
 "nbformat_minor": 2
}
