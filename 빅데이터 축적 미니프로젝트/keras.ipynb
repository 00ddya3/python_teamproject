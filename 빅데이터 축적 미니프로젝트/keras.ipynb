{
 "cells": [
  {
   "cell_type": "code",
   "execution_count": 1,
   "metadata": {},
   "outputs": [],
   "source": [
    "import pandas as pd\n",
    "import numpy as np\n",
    "import tensorflow as tf"
   ]
  },
  {
   "cell_type": "code",
   "execution_count": 2,
   "metadata": {},
   "outputs": [
    {
     "data": {
      "text/html": [
       "<div>\n",
       "<style scoped>\n",
       "    .dataframe tbody tr th:only-of-type {\n",
       "        vertical-align: middle;\n",
       "    }\n",
       "\n",
       "    .dataframe tbody tr th {\n",
       "        vertical-align: top;\n",
       "    }\n",
       "\n",
       "    .dataframe thead th {\n",
       "        text-align: right;\n",
       "    }\n",
       "</style>\n",
       "<table border=\"1\" class=\"dataframe\">\n",
       "  <thead>\n",
       "    <tr style=\"text-align: right;\">\n",
       "      <th></th>\n",
       "      <th>station_id</th>\n",
       "      <th>station_name</th>\n",
       "      <th>subway</th>\n",
       "      <th>complex</th>\n",
       "      <th>market</th>\n",
       "      <th>before</th>\n",
       "      <th>after</th>\n",
       "    </tr>\n",
       "  </thead>\n",
       "  <tbody>\n",
       "    <tr>\n",
       "      <th>0</th>\n",
       "      <td>119000104</td>\n",
       "      <td>7호선장승배기역.상도2치안센터</td>\n",
       "      <td>1</td>\n",
       "      <td>0</td>\n",
       "      <td>2</td>\n",
       "      <td>7544</td>\n",
       "      <td>8000</td>\n",
       "    </tr>\n",
       "    <tr>\n",
       "      <th>1</th>\n",
       "      <td>119000104</td>\n",
       "      <td>7호선장승배기역.상도2치안센터</td>\n",
       "      <td>1</td>\n",
       "      <td>0</td>\n",
       "      <td>2</td>\n",
       "      <td>7633</td>\n",
       "      <td>6686</td>\n",
       "    </tr>\n",
       "    <tr>\n",
       "      <th>2</th>\n",
       "      <td>119000104</td>\n",
       "      <td>7호선장승배기역.상도2치안센터</td>\n",
       "      <td>1</td>\n",
       "      <td>0</td>\n",
       "      <td>2</td>\n",
       "      <td>8851</td>\n",
       "      <td>8644</td>\n",
       "    </tr>\n",
       "    <tr>\n",
       "      <th>3</th>\n",
       "      <td>119000104</td>\n",
       "      <td>7호선장승배기역.상도2치안센터</td>\n",
       "      <td>1</td>\n",
       "      <td>0</td>\n",
       "      <td>2</td>\n",
       "      <td>8365</td>\n",
       "      <td>8804</td>\n",
       "    </tr>\n",
       "    <tr>\n",
       "      <th>4</th>\n",
       "      <td>119000104</td>\n",
       "      <td>7호선장승배기역.상도2치안센터</td>\n",
       "      <td>1</td>\n",
       "      <td>0</td>\n",
       "      <td>2</td>\n",
       "      <td>8184</td>\n",
       "      <td>9153</td>\n",
       "    </tr>\n",
       "  </tbody>\n",
       "</table>\n",
       "</div>"
      ],
      "text/plain": [
       "   station_id      station_name  subway  complex  market  before  after\n",
       "0   119000104  7호선장승배기역.상도2치안센터       1        0       2    7544   8000\n",
       "1   119000104  7호선장승배기역.상도2치안센터       1        0       2    7633   6686\n",
       "2   119000104  7호선장승배기역.상도2치안센터       1        0       2    8851   8644\n",
       "3   119000104  7호선장승배기역.상도2치안센터       1        0       2    8365   8804\n",
       "4   119000104  7호선장승배기역.상도2치안센터       1        0       2    8184   9153"
      ]
     },
     "execution_count": 2,
     "metadata": {},
     "output_type": "execute_result"
    }
   ],
   "source": [
    "data = pd.read_csv(\"./서울최종.csv\", encoding='cp949')\n",
    "data.drop('Unnamed: 0', axis=1, inplace=True)\n",
    "data.head()"
   ]
  },
  {
   "cell_type": "code",
   "execution_count": 3,
   "metadata": {},
   "outputs": [
    {
     "name": "stdout",
     "output_type": "stream",
     "text": [
      "(2160, 4) (2160,)\n"
     ]
    }
   ],
   "source": [
    "x_data = data[['subway', 'complex', 'market', 'before']]\n",
    "y_data = data['after']\n",
    "\n",
    "print(x_data.shape, y_data.shape)"
   ]
  },
  {
   "cell_type": "code",
   "execution_count": 4,
   "metadata": {},
   "outputs": [],
   "source": [
    "#피처 스케일링\n",
    "from sklearn.preprocessing import MinMaxScaler\n",
    "\n",
    "scaler=MinMaxScaler()\n",
    "x_data_scaled = scaler.fit_transform(x_data)"
   ]
  },
  {
   "cell_type": "code",
   "execution_count": 5,
   "metadata": {},
   "outputs": [
    {
     "name": "stdout",
     "output_type": "stream",
     "text": [
      "x_train shape: (1728, 4) \n",
      "x_test shape: (432, 4)\n"
     ]
    }
   ],
   "source": [
    "from sklearn.model_selection import train_test_split\n",
    "\n",
    "#데이터 나누기\n",
    "x_train, x_test, y_train, y_test=train_test_split(x_data, y_data, test_size=0.2, shuffle=True, random_state=10)\n",
    "\n",
    "print('x_train shape:', x_train.shape, '\\nx_test shape:', x_test.shape)"
   ]
  },
  {
   "cell_type": "code",
   "execution_count": 9,
   "metadata": {},
   "outputs": [
    {
     "name": "stdout",
     "output_type": "stream",
     "text": [
      "Model: \"sequential_1\"\n",
      "_________________________________________________________________\n",
      "Layer (type)                 Output Shape              Param #   \n",
      "=================================================================\n",
      "dense_5 (Dense)              (None, 128)               640       \n",
      "_________________________________________________________________\n",
      "dense_6 (Dense)              (None, 64)                8256      \n",
      "_________________________________________________________________\n",
      "dense_7 (Dense)              (None, 32)                2080      \n",
      "_________________________________________________________________\n",
      "dense_8 (Dense)              (None, 16)                528       \n",
      "_________________________________________________________________\n",
      "dense_9 (Dense)              (None, 1)                 17        \n",
      "=================================================================\n",
      "Total params: 11,521\n",
      "Trainable params: 11,521\n",
      "Non-trainable params: 0\n",
      "_________________________________________________________________\n"
     ]
    }
   ],
   "source": [
    "from tensorflow.keras import Sequential\n",
    "from tensorflow.keras.layers import Dense\n",
    "\n",
    "def build_model(num_input=1) :\n",
    "    model = Sequential()\n",
    "    model.add(Dense(128, activation='relu', input_dim=num_input))\n",
    "    model.add(Dense(64, activation='relu'))\n",
    "    model.add(Dense(32, activation='relu'))\n",
    "    model.add(Dense(16, activation='relu'))\n",
    "    model.add(Dense(1, activation='linear'))\n",
    "\n",
    "    model.compile(optimizer = 'adam', loss='mse', metrics=['mae'])\n",
    "\n",
    "    return model\n",
    "\n",
    "model = build_model(num_input = 4)\n",
    "model.summary()\n"
   ]
  },
  {
   "cell_type": "code",
   "execution_count": 32,
   "metadata": {},
   "outputs": [
    {
     "name": "stdout",
     "output_type": "stream",
     "text": [
      "Epoch 1/50\n",
      "54/54 - 0s - loss: 14158150.0000 - mae: 2043.7540\n",
      "Epoch 2/50\n",
      "54/54 - 0s - loss: 14494330.0000 - mae: 2109.8799\n",
      "Epoch 3/50\n",
      "54/54 - 0s - loss: 13857299.0000 - mae: 2045.4646\n",
      "Epoch 4/50\n",
      "54/54 - 0s - loss: 14687912.0000 - mae: 2085.7246\n",
      "Epoch 5/50\n",
      "54/54 - 0s - loss: 14010016.0000 - mae: 2009.1709\n",
      "Epoch 6/50\n",
      "54/54 - 0s - loss: 13847554.0000 - mae: 2025.1837\n",
      "Epoch 7/50\n",
      "54/54 - 0s - loss: 13899375.0000 - mae: 2030.3837\n",
      "Epoch 8/50\n",
      "54/54 - 0s - loss: 14005086.0000 - mae: 2039.6686\n",
      "Epoch 9/50\n",
      "54/54 - 0s - loss: 14162690.0000 - mae: 2035.2837\n",
      "Epoch 10/50\n",
      "54/54 - 0s - loss: 14446012.0000 - mae: 2057.8689\n",
      "Epoch 11/50\n",
      "54/54 - 0s - loss: 14145737.0000 - mae: 2071.6831\n",
      "Epoch 12/50\n",
      "54/54 - 0s - loss: 14029639.0000 - mae: 2042.7513\n",
      "Epoch 13/50\n",
      "54/54 - 0s - loss: 15170085.0000 - mae: 2150.6973\n",
      "Epoch 14/50\n",
      "54/54 - 0s - loss: 15023074.0000 - mae: 2109.2263\n",
      "Epoch 15/50\n",
      "54/54 - 0s - loss: 14463252.0000 - mae: 2037.0188\n",
      "Epoch 16/50\n",
      "54/54 - 0s - loss: 13952934.0000 - mae: 2021.7548\n",
      "Epoch 17/50\n",
      "54/54 - 0s - loss: 14070647.0000 - mae: 2034.9443\n",
      "Epoch 18/50\n",
      "54/54 - 0s - loss: 14295481.0000 - mae: 2044.4294\n",
      "Epoch 19/50\n",
      "54/54 - 0s - loss: 13730366.0000 - mae: 2008.8112\n",
      "Epoch 20/50\n",
      "54/54 - 0s - loss: 13885275.0000 - mae: 2024.0236\n",
      "Epoch 21/50\n",
      "54/54 - 0s - loss: 15061662.0000 - mae: 2132.7236\n",
      "Epoch 22/50\n",
      "54/54 - 0s - loss: 13916408.0000 - mae: 2023.2806\n",
      "Epoch 23/50\n",
      "54/54 - 0s - loss: 13488334.0000 - mae: 2023.7454\n",
      "Epoch 24/50\n",
      "54/54 - 0s - loss: 15936640.0000 - mae: 2147.9050\n",
      "Epoch 25/50\n",
      "54/54 - 0s - loss: 14910146.0000 - mae: 2172.8491\n",
      "Epoch 26/50\n",
      "54/54 - 0s - loss: 14186257.0000 - mae: 2052.9683\n",
      "Epoch 27/50\n",
      "54/54 - 0s - loss: 13885929.0000 - mae: 2007.9006\n",
      "Epoch 28/50\n",
      "54/54 - 0s - loss: 14048313.0000 - mae: 2033.6055\n",
      "Epoch 29/50\n",
      "54/54 - 0s - loss: 14323411.0000 - mae: 2038.7861\n",
      "Epoch 30/50\n",
      "54/54 - 0s - loss: 13657453.0000 - mae: 2024.6080\n",
      "Epoch 31/50\n",
      "54/54 - 0s - loss: 13856870.0000 - mae: 2016.3994\n",
      "Epoch 32/50\n",
      "54/54 - 0s - loss: 14148158.0000 - mae: 2027.3969\n",
      "Epoch 33/50\n",
      "54/54 - 0s - loss: 14505933.0000 - mae: 2064.6770\n",
      "Epoch 34/50\n",
      "54/54 - 0s - loss: 14737460.0000 - mae: 2110.7856\n",
      "Epoch 35/50\n",
      "54/54 - 0s - loss: 14498168.0000 - mae: 2055.1350\n",
      "Epoch 36/50\n",
      "54/54 - 0s - loss: 14095749.0000 - mae: 2033.4697\n",
      "Epoch 37/50\n",
      "54/54 - 0s - loss: 13971605.0000 - mae: 2026.5931\n",
      "Epoch 38/50\n",
      "54/54 - 0s - loss: 14580532.0000 - mae: 2103.2998\n",
      "Epoch 39/50\n",
      "54/54 - 0s - loss: 13939234.0000 - mae: 2012.8635\n",
      "Epoch 40/50\n",
      "54/54 - 0s - loss: 14574798.0000 - mae: 2088.6941\n",
      "Epoch 41/50\n",
      "54/54 - 0s - loss: 14181783.0000 - mae: 2031.7833\n",
      "Epoch 42/50\n",
      "54/54 - 0s - loss: 13751631.0000 - mae: 2013.2092\n",
      "Epoch 43/50\n",
      "54/54 - 0s - loss: 14387733.0000 - mae: 2060.8582\n",
      "Epoch 44/50\n",
      "54/54 - 0s - loss: 13777019.0000 - mae: 2009.2822\n",
      "Epoch 45/50\n",
      "54/54 - 0s - loss: 14259156.0000 - mae: 2055.1155\n",
      "Epoch 46/50\n",
      "54/54 - 0s - loss: 14000864.0000 - mae: 2065.3662\n",
      "Epoch 47/50\n",
      "54/54 - 0s - loss: 14355814.0000 - mae: 2055.7126\n",
      "Epoch 48/50\n",
      "54/54 - 0s - loss: 13654111.0000 - mae: 2007.2717\n",
      "Epoch 49/50\n",
      "54/54 - 0s - loss: 14344994.0000 - mae: 2086.3730\n",
      "Epoch 50/50\n",
      "54/54 - 0s - loss: 14162578.0000 - mae: 2046.0759\n"
     ]
    },
    {
     "data": {
      "text/plain": [
       "<keras.callbacks.History at 0x1deb6ac7e10>"
      ]
     },
     "execution_count": 32,
     "metadata": {},
     "output_type": "execute_result"
    }
   ],
   "source": [
    "# 모델 훈련\n",
    "model.fit(x_train, y_train, epochs=50, batch_size=32, verbose=2)"
   ]
  },
  {
   "cell_type": "code",
   "execution_count": 33,
   "metadata": {},
   "outputs": [
    {
     "name": "stdout",
     "output_type": "stream",
     "text": [
      "14/14 [==============================] - 0s 1ms/step - loss: 16853116.0000 - mae: 1978.5154\n"
     ]
    },
    {
     "data": {
      "text/plain": [
       "[16853116.0, 1978.515380859375]"
      ]
     },
     "execution_count": 33,
     "metadata": {},
     "output_type": "execute_result"
    }
   ],
   "source": [
    "#평가\n",
    "model.evaluate(x_test, y_test)"
   ]
  },
  {
   "cell_type": "code",
   "execution_count": 34,
   "metadata": {},
   "outputs": [
    {
     "name": "stdout",
     "output_type": "stream",
     "text": [
      "Epoch 1/50\n",
      "41/41 - 1s - loss: 279720864.0000 - mae: 10628.2002 - val_loss: 13404700.0000 - val_mae: 1986.5635\n",
      "Epoch 2/50\n",
      "41/41 - 0s - loss: 16112849.0000 - mae: 2205.1912 - val_loss: 14558554.0000 - val_mae: 2109.3115\n",
      "Epoch 3/50\n",
      "41/41 - 0s - loss: 14033171.0000 - mae: 2038.3018 - val_loss: 15621713.0000 - val_mae: 2212.5725\n",
      "Epoch 4/50\n",
      "41/41 - 0s - loss: 14216552.0000 - mae: 2023.6041 - val_loss: 13418021.0000 - val_mae: 1988.7651\n",
      "Epoch 5/50\n",
      "41/41 - 0s - loss: 14349889.0000 - mae: 2050.5649 - val_loss: 13448910.0000 - val_mae: 1987.1189\n",
      "Epoch 6/50\n",
      "41/41 - 0s - loss: 14003619.0000 - mae: 2042.7747 - val_loss: 13737733.0000 - val_mae: 2023.1752\n",
      "Epoch 7/50\n",
      "41/41 - 0s - loss: 13878654.0000 - mae: 2076.7944 - val_loss: 13430249.0000 - val_mae: 1985.8242\n",
      "Epoch 8/50\n",
      "41/41 - 0s - loss: 14009693.0000 - mae: 2038.8021 - val_loss: 13517009.0000 - val_mae: 1999.1782\n",
      "Epoch 9/50\n",
      "41/41 - 0s - loss: 13754507.0000 - mae: 2030.9506 - val_loss: 13529340.0000 - val_mae: 2000.4291\n",
      "Epoch 10/50\n",
      "41/41 - 0s - loss: 13953918.0000 - mae: 2033.3555 - val_loss: 13473894.0000 - val_mae: 1988.9576\n",
      "Epoch 11/50\n",
      "41/41 - 0s - loss: 14296043.0000 - mae: 2070.2715 - val_loss: 16497439.0000 - val_mae: 2295.8499\n",
      "Epoch 12/50\n",
      "41/41 - 0s - loss: 14682738.0000 - mae: 2089.1428 - val_loss: 13650425.0000 - val_mae: 2013.2672\n",
      "Epoch 13/50\n",
      "41/41 - 0s - loss: 14835492.0000 - mae: 2128.7244 - val_loss: 13502111.0000 - val_mae: 1991.0864\n",
      "Epoch 14/50\n",
      "41/41 - 0s - loss: 13815117.0000 - mae: 2035.2147 - val_loss: 13937371.0000 - val_mae: 2028.5352\n",
      "Epoch 15/50\n",
      "41/41 - 0s - loss: 14332738.0000 - mae: 2049.3984 - val_loss: 15369985.0000 - val_mae: 2187.8728\n",
      "Epoch 16/50\n",
      "41/41 - 0s - loss: 14182926.0000 - mae: 2030.5875 - val_loss: 15086405.0000 - val_mae: 2160.5757\n",
      "Epoch 17/50\n",
      "41/41 - 0s - loss: 14226449.0000 - mae: 2099.2468 - val_loss: 16176749.0000 - val_mae: 2264.3237\n",
      "Epoch 18/50\n",
      "41/41 - 0s - loss: 14442524.0000 - mae: 2055.2048 - val_loss: 13911770.0000 - val_mae: 2042.5538\n",
      "Epoch 19/50\n",
      "41/41 - 0s - loss: 14014981.0000 - mae: 2025.3339 - val_loss: 13924032.0000 - val_mae: 2043.9113\n",
      "Epoch 20/50\n",
      "41/41 - 0s - loss: 14121342.0000 - mae: 2061.4272 - val_loss: 14150213.0000 - val_mae: 2048.6516\n",
      "Epoch 21/50\n",
      "41/41 - 0s - loss: 14832619.0000 - mae: 2111.4434 - val_loss: 13600920.0000 - val_mae: 1999.5326\n",
      "Epoch 22/50\n",
      "41/41 - 0s - loss: 14940742.0000 - mae: 2117.5242 - val_loss: 13571031.0000 - val_mae: 1996.7631\n",
      "Epoch 23/50\n",
      "41/41 - 0s - loss: 15107663.0000 - mae: 2124.9929 - val_loss: 15691473.0000 - val_mae: 2218.1455\n",
      "Epoch 24/50\n",
      "41/41 - 0s - loss: 14994675.0000 - mae: 2226.2688 - val_loss: 13817842.0000 - val_mae: 2032.0302\n",
      "Epoch 25/50\n",
      "41/41 - 0s - loss: 13763966.0000 - mae: 2018.3032 - val_loss: 13388945.0000 - val_mae: 1983.4948\n",
      "Epoch 26/50\n",
      "41/41 - 0s - loss: 14757904.0000 - mae: 2108.0940 - val_loss: 13387876.0000 - val_mae: 1983.6796\n",
      "Epoch 27/50\n",
      "41/41 - 0s - loss: 14109947.0000 - mae: 2020.3936 - val_loss: 13743054.0000 - val_mae: 2023.6382\n",
      "Epoch 28/50\n",
      "41/41 - 0s - loss: 14102117.0000 - mae: 2086.7632 - val_loss: 14244548.0000 - val_mae: 2076.7029\n",
      "Epoch 29/50\n",
      "41/41 - 0s - loss: 14248538.0000 - mae: 2049.2029 - val_loss: 13386779.0000 - val_mae: 1983.5399\n",
      "Epoch 30/50\n",
      "41/41 - 0s - loss: 14213739.0000 - mae: 2052.0974 - val_loss: 13459881.0000 - val_mae: 1988.3671\n",
      "Epoch 31/50\n",
      "41/41 - 0s - loss: 14656228.0000 - mae: 2136.1172 - val_loss: 16216087.0000 - val_mae: 2267.2231\n",
      "Epoch 32/50\n",
      "41/41 - 0s - loss: 14646432.0000 - mae: 2072.1365 - val_loss: 13396370.0000 - val_mae: 1983.6760\n",
      "Epoch 33/50\n",
      "41/41 - 0s - loss: 13721753.0000 - mae: 2018.6406 - val_loss: 13444084.0000 - val_mae: 1992.0532\n",
      "Epoch 34/50\n",
      "41/41 - 0s - loss: 13791845.0000 - mae: 2013.7544 - val_loss: 13848447.0000 - val_mae: 2021.2118\n",
      "Epoch 35/50\n",
      "41/41 - 0s - loss: 14320363.0000 - mae: 2058.8877 - val_loss: 14949607.0000 - val_mae: 2146.6055\n",
      "Epoch 36/50\n",
      "41/41 - 0s - loss: 13989254.0000 - mae: 2040.0037 - val_loss: 13477082.0000 - val_mae: 1989.8175\n",
      "Epoch 37/50\n",
      "41/41 - 0s - loss: 13974479.0000 - mae: 2021.9412 - val_loss: 13427676.0000 - val_mae: 1986.1654\n",
      "Epoch 38/50\n",
      "41/41 - 0s - loss: 13689132.0000 - mae: 2011.2064 - val_loss: 15343676.0000 - val_mae: 2162.3748\n",
      "Epoch 39/50\n",
      "41/41 - 0s - loss: 14808639.0000 - mae: 2142.2214 - val_loss: 16353139.0000 - val_mae: 2279.9253\n",
      "Epoch 40/50\n",
      "41/41 - 0s - loss: 14331479.0000 - mae: 2063.6445 - val_loss: 13910654.0000 - val_mae: 2027.4152\n",
      "Epoch 41/50\n",
      "41/41 - 0s - loss: 14090924.0000 - mae: 2032.0103 - val_loss: 14267783.0000 - val_mae: 2078.6521\n",
      "Epoch 42/50\n",
      "41/41 - 0s - loss: 14033604.0000 - mae: 2034.8175 - val_loss: 13839042.0000 - val_mae: 2034.1818\n",
      "Epoch 43/50\n",
      "41/41 - 0s - loss: 14408262.0000 - mae: 2071.3821 - val_loss: 15051396.0000 - val_mae: 2135.4966\n",
      "Epoch 44/50\n",
      "41/41 - 0s - loss: 13699353.0000 - mae: 2070.6604 - val_loss: 15896113.0000 - val_mae: 2213.5479\n",
      "Epoch 45/50\n",
      "41/41 - 0s - loss: 14835576.0000 - mae: 2122.5657 - val_loss: 13524288.0000 - val_mae: 1993.5695\n",
      "Epoch 46/50\n",
      "41/41 - 0s - loss: 13921391.0000 - mae: 2024.1809 - val_loss: 13380251.0000 - val_mae: 1983.6172\n",
      "Epoch 47/50\n",
      "41/41 - 0s - loss: 14463992.0000 - mae: 2051.2190 - val_loss: 13413760.0000 - val_mae: 1989.1836\n",
      "Epoch 48/50\n",
      "41/41 - 0s - loss: 13901579.0000 - mae: 2024.4408 - val_loss: 14664898.0000 - val_mae: 2118.1792\n",
      "Epoch 49/50\n",
      "41/41 - 0s - loss: 14812200.0000 - mae: 2120.5942 - val_loss: 13388690.0000 - val_mae: 1983.4281\n",
      "Epoch 50/50\n",
      "41/41 - 0s - loss: 14346328.0000 - mae: 2090.7798 - val_loss: 14076358.0000 - val_mae: 2059.5586\n"
     ]
    }
   ],
   "source": [
    "#교차검증\n",
    "model = build_model(num_input=4)\n",
    "history = model.fit(x_train, y_train, batch_size=32, epochs=50, validation_split=0.25, verbose=2)"
   ]
  },
  {
   "cell_type": "code",
   "execution_count": 31,
   "metadata": {},
   "outputs": [
    {
     "data": {
      "text/plain": [
       "<function matplotlib.pyplot.show(close=None, block=None)>"
      ]
     },
     "execution_count": 31,
     "metadata": {},
     "output_type": "execute_result"
    },
    {
     "data": {
      "image/png": "[encoded data removed]",
      "text/plain": [
       "<Figure size 720x360 with 2 Axes>"
      ]
     },
     "metadata": {
      "needs_background": "light"
     },
     "output_type": "display_data"
    }
   ],
   "source": [
    "import matplotlib.pyplot as plt\n",
    "\n",
    "plt.figure(figsize=(10, 5))\n",
    "\n",
    "ax1 = plt.subplot(1,2,1)\n",
    "ax1.plot(range(1, 51), history.history['loss'][0 : 50], label='Train')\n",
    "ax1.plot(range(1, 51), history.history['val_loss'][0 : 50], label='Validation')\n",
    "ax1.legend()\n",
    "\n",
    "plt.title('start = 1')\n",
    "plt.xlabel('Epochs')\n",
    "plt.ylabel('mse')\n",
    "\n",
    "ax2 = plt.subplot(1,2,2)\n",
    "ax2.plot(range2, 51), history.history['loss'][1 : 50], label='Train')\n",
    "ax2.plot(range(2, 51), history.history['val_loss'][1 : 50], label='Validation')\n",
    "ax2.legend()\n",
    "\n",
    "plt.title('start = 2')\n",
    "plt.xlabel('Epochs')\n",
    "plt.ylabel('mse')\n",
    "\n",
    "plt.show\n"
   ]
  },
  {
   "cell_type": "code",
   "execution_count": null,
   "metadata": {},
   "outputs": [],
   "source": []
  }
 ],
 "metadata": {
  "interpreter": {
   "hash": "8fac594bfae6525c0c41b4041d2d72effa188cc8ead05f81b1fab2bb098927fb"
  },
  "kernelspec": {
   "display_name": "Python 3.9.7 ('base')",
   "language": "python",
   "name": "python3"
  },
  "language_info": {
   "codemirror_mode": {
    "name": "ipython",
    "version": 3
   },
   "file_extension": ".py",
   "mimetype": "text/x-python",
   "name": "python",
   "nbconvert_exporter": "python",
   "pygments_lexer": "ipython3",
   "version": "3.6.13"
  },
  "orig_nbformat": 4
 },
 "nbformat": 4,
 "nbformat_minor": 2
}
